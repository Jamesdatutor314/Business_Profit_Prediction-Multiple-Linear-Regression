{
 "cells": [
  {
   "cell_type": "code",
   "execution_count": 1,
   "id": "native-measure",
   "metadata": {},
   "outputs": [
    {
     "data": {
      "text/html": [
       "<style>\n",
       ".list-inline {list-style: none; margin:0; padding: 0}\n",
       ".list-inline>li {display: inline-block}\n",
       ".list-inline>li:not(:last-child)::after {content: \"\\00b7\"; padding: 0 .5ex}\n",
       "</style>\n",
       "<ol class=list-inline><li>'C:/Users/james/OneDrive/Documents/R/win-library/4.0'</li><li>'C:/R-4.0.5/library'</li></ol>\n"
      ],
      "text/latex": [
       "\\begin{enumerate*}\n",
       "\\item 'C:/Users/james/OneDrive/Documents/R/win-library/4.0'\n",
       "\\item 'C:/R-4.0.5/library'\n",
       "\\end{enumerate*}\n"
      ],
      "text/markdown": [
       "1. 'C:/Users/james/OneDrive/Documents/R/win-library/4.0'\n",
       "2. 'C:/R-4.0.5/library'\n",
       "\n",
       "\n"
      ],
      "text/plain": [
       "[1] \"C:/Users/james/OneDrive/Documents/R/win-library/4.0\"\n",
       "[2] \"C:/R-4.0.5/library\"                                 "
      ]
     },
     "metadata": {},
     "output_type": "display_data"
    }
   ],
   "source": [
    ".libPaths()"
   ]
  },
  {
   "cell_type": "code",
   "execution_count": 2,
   "id": "mysterious-brooks",
   "metadata": {},
   "outputs": [],
   "source": [
    "# create a variable for the library paths\n",
    "# autocomplete press tab\n",
    "lib_path = 'C:/Users/james/OneDrive/Documents/R/win-library/4.0'"
   ]
  },
  {
   "cell_type": "code",
   "execution_count": 3,
   "id": "focal-collapse",
   "metadata": {},
   "outputs": [
    {
     "name": "stdout",
     "output_type": "stream",
     "text": [
      "package 'ggplot2' successfully unpacked and MD5 sums checked\n",
      "\n",
      "The downloaded binary packages are in\n",
      "\tC:\\Users\\james\\AppData\\Local\\Temp\\RtmpY5fBBA\\downloaded_packages\n",
      "package 'lubridate' successfully unpacked and MD5 sums checked\n",
      "\n",
      "The downloaded binary packages are in\n",
      "\tC:\\Users\\james\\AppData\\Local\\Temp\\RtmpY5fBBA\\downloaded_packages\n",
      "package 'GGally' successfully unpacked and MD5 sums checked\n",
      "\n",
      "The downloaded binary packages are in\n",
      "\tC:\\Users\\james\\AppData\\Local\\Temp\\RtmpY5fBBA\\downloaded_packages\n",
      "package 'ggpubr' successfully unpacked and MD5 sums checked\n",
      "\n",
      "The downloaded binary packages are in\n",
      "\tC:\\Users\\james\\AppData\\Local\\Temp\\RtmpY5fBBA\\downloaded_packages\n",
      "package 'qpcR' successfully unpacked and MD5 sums checked\n",
      "\n",
      "The downloaded binary packages are in\n",
      "\tC:\\Users\\james\\AppData\\Local\\Temp\\RtmpY5fBBA\\downloaded_packages\n",
      "package 'matlib' successfully unpacked and MD5 sums checked\n",
      "\n",
      "The downloaded binary packages are in\n",
      "\tC:\\Users\\james\\AppData\\Local\\Temp\\RtmpY5fBBA\\downloaded_packages\n",
      "package 'car' successfully unpacked and MD5 sums checked\n",
      "\n",
      "The downloaded binary packages are in\n",
      "\tC:\\Users\\james\\AppData\\Local\\Temp\\RtmpY5fBBA\\downloaded_packages\n"
     ]
    },
    {
     "name": "stderr",
     "output_type": "stream",
     "text": [
      "Warning message:\n",
      "\"package 'dplyr ' is not available for this version of R\n",
      "\n",
      "A version of this package for your version of R might be available elsewhere,\n",
      "see the ideas at\n",
      "https://cran.r-project.org/doc/manuals/r-patched/R-admin.html#Installing-packages\"\n",
      "Warning message:\n",
      "\"package 'ggrepel ' is not available for this version of R\n",
      "\n",
      "A version of this package for your version of R might be available elsewhere,\n",
      "see the ideas at\n",
      "https://cran.r-project.org/doc/manuals/r-patched/R-admin.html#Installing-packages\"\n"
     ]
    },
    {
     "name": "stdout",
     "output_type": "stream",
     "text": [
      "package 'latex2exp' successfully unpacked and MD5 sums checked\n",
      "\n",
      "The downloaded binary packages are in\n",
      "\tC:\\Users\\james\\AppData\\Local\\Temp\\RtmpY5fBBA\\downloaded_packages\n"
     ]
    },
    {
     "name": "stderr",
     "output_type": "stream",
     "text": [
      "Warning message:\n",
      "\"package 'graphics' is in use and will not be installed\"\n"
     ]
    },
    {
     "name": "stdout",
     "output_type": "stream",
     "text": [
      "package 'knitr' successfully unpacked and MD5 sums checked\n",
      "\n",
      "The downloaded binary packages are in\n",
      "\tC:\\Users\\james\\AppData\\Local\\Temp\\RtmpY5fBBA\\downloaded_packages\n",
      "package 'cowplot' successfully unpacked and MD5 sums checked\n",
      "\n",
      "The downloaded binary packages are in\n",
      "\tC:\\Users\\james\\AppData\\Local\\Temp\\RtmpY5fBBA\\downloaded_packages\n",
      "package 'gridExtra' successfully unpacked and MD5 sums checked\n",
      "\n",
      "The downloaded binary packages are in\n",
      "\tC:\\Users\\james\\AppData\\Local\\Temp\\RtmpY5fBBA\\downloaded_packages\n",
      "package 'patchwork' successfully unpacked and MD5 sums checked\n",
      "\n",
      "The downloaded binary packages are in\n",
      "\tC:\\Users\\james\\AppData\\Local\\Temp\\RtmpY5fBBA\\downloaded_packages\n",
      "\n",
      "  There is a binary version available but the source version is later:\n",
      "         binary source needs_compilation\n",
      "corrplot   0.84   0.88             FALSE\n",
      "\n"
     ]
    },
    {
     "name": "stderr",
     "output_type": "stream",
     "text": [
      "installing the source package 'corrplot'\n",
      "\n",
      "\n"
     ]
    },
    {
     "name": "stdout",
     "output_type": "stream",
     "text": [
      "package 'faraway' successfully unpacked and MD5 sums checked\n",
      "\n",
      "The downloaded binary packages are in\n",
      "\tC:\\Users\\james\\AppData\\Local\\Temp\\RtmpY5fBBA\\downloaded_packages\n",
      "package 'ggthemes' successfully unpacked and MD5 sums checked\n",
      "\n",
      "The downloaded binary packages are in\n",
      "\tC:\\Users\\james\\AppData\\Local\\Temp\\RtmpY5fBBA\\downloaded_packages\n",
      "package 'lmtest' successfully unpacked and MD5 sums checked\n",
      "\n",
      "The downloaded binary packages are in\n",
      "\tC:\\Users\\james\\AppData\\Local\\Temp\\RtmpY5fBBA\\downloaded_packages\n"
     ]
    }
   ],
   "source": [
    "# install libraries\n",
    "install.packages('ggplot2', lib = lib_path)\n",
    "install.packages('lubridate', lib = lib_path)\n",
    "install.packages('GGally', lib = lib_path)\n",
    "install.packages(\"ggpubr\",lib = lib_path)\n",
    "install.packages(\"qpcR\",lib = lib_path)\n",
    "install.packages(\"matlib\",lib = lib_path)\n",
    "install.packages(\"car\",lib = lib_path)\n",
    "install.packages(\"dplyr \",lib = lib_path) \n",
    "install.packages(\"ggrepel \",lib = lib_path)\n",
    "install.packages(\"latex2exp\",lib = lib_path)\n",
    "install.packages(\"graphics\",lib = lib_path)\n",
    "install.packages(\"knitr\",lib = lib_path)\n",
    "install.packages(\"cowplot\",lib = lib_path)\n",
    "install.packages(\"gridExtra\",lib = lib_path)\n",
    "install.packages(\"patchwork\",lib = lib_path)\n",
    "install.packages(\"corrplot\",lib = lib_path)\n",
    "install.packages(\"faraway\",lib = lib_path)\n",
    "install.packages(\"ggthemes\",lib = lib_path)\n",
    "install.packages(\"lmtest\",lib = lib_path)"
   ]
  },
  {
   "cell_type": "markdown",
   "id": "caf7b443",
   "metadata": {},
   "source": [
    "<P style=\"page-break-before: always\">"
   ]
  },
  {
   "cell_type": "code",
   "execution_count": 4,
   "id": "opposite-texture",
   "metadata": {},
   "outputs": [
    {
     "name": "stderr",
     "output_type": "stream",
     "text": [
      "\n",
      "Attaching package: 'lubridate'\n",
      "\n",
      "\n",
      "The following objects are masked from 'package:base':\n",
      "\n",
      "    date, intersect, setdiff, union\n",
      "\n",
      "\n",
      "Registered S3 method overwritten by 'GGally':\n",
      "  method from   \n",
      "  +.gg   ggplot2\n",
      "\n",
      "Loading required package: MASS\n",
      "\n",
      "Loading required package: minpack.lm\n",
      "\n",
      "Loading required package: rgl\n",
      "\n",
      "Loading required package: robustbase\n",
      "\n",
      "Loading required package: Matrix\n",
      "\n",
      "\n",
      "Attaching package: 'matlib'\n",
      "\n",
      "\n",
      "The following object is masked from 'package:rgl':\n",
      "\n",
      "    GramSchmidt\n",
      "\n",
      "\n",
      "Loading required package: carData\n",
      "\n",
      "\n",
      "Attaching package: 'dplyr'\n",
      "\n",
      "\n",
      "The following object is masked from 'package:car':\n",
      "\n",
      "    recode\n",
      "\n",
      "\n",
      "The following object is masked from 'package:MASS':\n",
      "\n",
      "    select\n",
      "\n",
      "\n",
      "The following objects are masked from 'package:stats':\n",
      "\n",
      "    filter, lag\n",
      "\n",
      "\n",
      "The following objects are masked from 'package:base':\n",
      "\n",
      "    intersect, setdiff, setequal, union\n",
      "\n",
      "\n",
      "\n",
      "Attaching package: 'cowplot'\n",
      "\n",
      "\n",
      "The following object is masked from 'package:ggpubr':\n",
      "\n",
      "    get_legend\n",
      "\n",
      "\n",
      "The following object is masked from 'package:lubridate':\n",
      "\n",
      "    stamp\n",
      "\n",
      "\n",
      "\n",
      "Attaching package: 'gridExtra'\n",
      "\n",
      "\n",
      "The following object is masked from 'package:dplyr':\n",
      "\n",
      "    combine\n",
      "\n",
      "\n",
      "\n",
      "Attaching package: 'patchwork'\n",
      "\n",
      "\n",
      "The following object is masked from 'package:cowplot':\n",
      "\n",
      "    align_plots\n",
      "\n",
      "\n",
      "The following object is masked from 'package:MASS':\n",
      "\n",
      "    area\n",
      "\n",
      "\n",
      "corrplot 0.88 loaded\n",
      "\n",
      "Registered S3 methods overwritten by 'lme4':\n",
      "  method                          from\n",
      "  cooks.distance.influence.merMod car \n",
      "  influence.merMod                car \n",
      "  dfbeta.influence.merMod         car \n",
      "  dfbetas.influence.merMod        car \n",
      "\n",
      "\n",
      "Attaching package: 'faraway'\n",
      "\n",
      "\n",
      "The following objects are masked from 'package:car':\n",
      "\n",
      "    logit, vif\n",
      "\n",
      "\n",
      "The following object is masked from 'package:robustbase':\n",
      "\n",
      "    epilepsy\n",
      "\n",
      "\n",
      "The following object is masked from 'package:GGally':\n",
      "\n",
      "    happy\n",
      "\n",
      "\n",
      "\n",
      "Attaching package: 'ggthemes'\n",
      "\n",
      "\n",
      "The following object is masked from 'package:cowplot':\n",
      "\n",
      "    theme_map\n",
      "\n",
      "\n",
      "Loading required package: zoo\n",
      "\n",
      "\n",
      "Attaching package: 'zoo'\n",
      "\n",
      "\n",
      "The following objects are masked from 'package:base':\n",
      "\n",
      "    as.Date, as.Date.numeric\n",
      "\n",
      "\n"
     ]
    }
   ],
   "source": [
    "# load libraries\n",
    "library('ggplot2')\n",
    "library('lubridate')\n",
    "library('GGally')\n",
    "library('ggpubr')\n",
    "library('qpcR')\n",
    "library('matlib')\n",
    "library('car')\n",
    "library('dplyr')\n",
    "library('ggrepel')\n",
    "library('latex2exp')\n",
    "library('graphics')\n",
    "library('rgl')\n",
    "library('cowplot')\n",
    "library('gridExtra')\n",
    "library('patchwork')\n",
    "library('corrplot')\n",
    "library('faraway')\n",
    "library('ggthemes')\n",
    "library('lmtest')"
   ]
  },
  {
   "cell_type": "code",
   "execution_count": 5,
   "id": "urban-cancellation",
   "metadata": {},
   "outputs": [],
   "source": [
    "# function to find all adjusted r^squared #\n",
    "\n",
    "### input are strings ###\n",
    "combination_function = function(dependent_var,independent_vars_vector,data_frame){\n",
    "    \n",
    "    # empty list\n",
    "    equations = list()\n",
    "    \n",
    "    for(i in 1:length(independent_vars_vector)){\n",
    "        \n",
    "        vector_com = combn(independent_vars_vector,i)\n",
    "        for (j in 1:ncol(vector_com)){\n",
    "            \n",
    "            model_f = as.formula(paste0(dependent_var,\"~\",paste0(vector_com[,j],collapse = \"+\")))\n",
    "            equations = c(equations, model_f)        \n",
    "    }    \n",
    "}\n",
    "    equation_output = NULL\n",
    "    \n",
    "    for(k in 1:length(equations)){\n",
    "        \n",
    "        equation = lm( equations[[k]], data= data_frame)\n",
    "        terms = length(equation$coefficients)\n",
    "        independent_var = c()\n",
    "        \n",
    "        independent_var[1] = paste0(dependent_var,\" = (\",round(as.numeric(equation$coefficients[1]),4),\") + \")\n",
    "        \n",
    "        for(i in 2:terms){\n",
    "            \n",
    "            independent_var[i] = paste0(\"(\",round(as.numeric(equation$coefficients[i]),4),\") \",names(equation$coefficients[i]))\n",
    "            \n",
    "        }\n",
    "        \n",
    "        eq = paste(independent_var,collapse = \"\")\n",
    "        adj_rsquare = summary(equation)$adj.r.squared\n",
    "        equation_df = data.frame(\"Equation\"=eq, \"adjusted r^2\"=adj_rsquare)\n",
    "        equation_output = rbind(equation_output,equation_df)   \n",
    "        \n",
    "    }\n",
    "    \n",
    "    equation_output = equation_output[order(-equation_output$adjusted.r.2),]\n",
    "    return(equation_output)\n",
    "    \n",
    "    }   "
   ]
  },
  {
   "cell_type": "code",
   "execution_count": null,
   "id": "polyphonic-controversy",
   "metadata": {},
   "outputs": [],
   "source": []
  },
  {
   "cell_type": "markdown",
   "id": "entire-migration",
   "metadata": {},
   "source": [
    "Dataset #2F – Firm Profits (Source: accessed publicly and merged from a secret\n",
    "database)\n",
    "#######################################################################################\n",
    "#######################################################################################\n",
    "\n",
    "\n",
    " Description: Profit rates and Market structure of Advertising Intensive firms from\n",
    "(2013 – 2018) are provided.\n",
    "########################################################################################\n",
    "#######################################################################################\n",
    "\n",
    "\n",
    "\n",
    " Variables:\n",
    " Firm - name of firm\n",
    "\n",
    " PT – (Net Income + Interest Expense)/total assets\n",
    "\n",
    " PE – (Net Income/shareholder equity)\n",
    "\n",
    " CR – Weighted concentration ratio of firm’s product markets\n",
    "\n",
    " DRC – Dummy variable for CR > 50\n",
    "\n",
    " AS - Weighted average Industry advertising-to-sales ratio of firm's product\n",
    "markets\n",
    "\n",
    " CAS – Overall advertising-to-sales ratio of the firm\n",
    "\n",
    " GR – Weighted average percent changes in industry sales in the firm’s market\n",
    "\n",
    " DIV2 - Firm’s diversification in the more broad industries\n",
    "\n",
    " DIV3 - Firm’s diversification in the less broad industries\n",
    "\n",
    " SIZ - Firms 2018 total assets (millions)\n",
    "\n",
    " LRSIZ – inversely proportional to market shares\n",
    "#######################################################################################\n",
    "#######################################################################################\n",
    "\n",
    "\n",
    " Research Question*: Find a ‘best’ multiple linear\n",
    "regression model to predict the average profit per total\n",
    "assets (PT)"
   ]
  },
  {
   "cell_type": "code",
   "execution_count": 28,
   "id": "dress-infrared",
   "metadata": {},
   "outputs": [
    {
     "data": {
      "text/html": [
       "<table class=\"dataframe\">\n",
       "<caption>A data.frame: 5 × 12</caption>\n",
       "<thead>\n",
       "\t<tr><th></th><th scope=col>FIRM</th><th scope=col>PT</th><th scope=col>PE</th><th scope=col>CR</th><th scope=col>DCR</th><th scope=col>AS</th><th scope=col>CAS</th><th scope=col>GR</th><th scope=col>DIV2</th><th scope=col>DIV3</th><th scope=col>SIZ</th><th scope=col>LRSIZ</th></tr>\n",
       "\t<tr><th></th><th scope=col>&lt;chr&gt;</th><th scope=col>&lt;dbl&gt;</th><th scope=col>&lt;dbl&gt;</th><th scope=col>&lt;int&gt;</th><th scope=col>&lt;int&gt;</th><th scope=col>&lt;dbl&gt;</th><th scope=col>&lt;dbl&gt;</th><th scope=col>&lt;dbl&gt;</th><th scope=col>&lt;dbl&gt;</th><th scope=col>&lt;dbl&gt;</th><th scope=col>&lt;int&gt;</th><th scope=col>&lt;dbl&gt;</th></tr>\n",
       "</thead>\n",
       "<tbody>\n",
       "\t<tr><th scope=row>1</th><td>Alberto-Culver   </td><td>0.30</td><td>0.17</td><td>40</td><td>0</td><td>16.5</td><td>28.0</td><td>1.67</td><td>0.28</td><td>0.28</td><td> 37</td><td>0.2769</td></tr>\n",
       "\t<tr><th scope=row>2</th><td>American-Bakeries</td><td>0.09</td><td>0.06</td><td>55</td><td>1</td><td> 0.9</td><td> 0.4</td><td>1.16</td><td>0.00</td><td>0.00</td><td> 78</td><td>0.2295</td></tr>\n",
       "\t<tr><th scope=row>3</th><td>American-Sugar   </td><td>0.11</td><td>0.07</td><td>43</td><td>0</td><td> 0.2</td><td> 0.5</td><td>1.13</td><td>0.00</td><td>0.00</td><td>269</td><td>0.1787</td></tr>\n",
       "\t<tr><th scope=row>4</th><td>Anheuser-Busch   </td><td>0.13</td><td>0.10</td><td>80</td><td>1</td><td> 3.3</td><td> 2.6</td><td>1.37</td><td>0.00</td><td>0.13</td><td>366</td><td>0.1694</td></tr>\n",
       "\t<tr><th scope=row>5</th><td>Armour           </td><td>0.09</td><td>0.06</td><td>31</td><td>0</td><td> 0.2</td><td> 0.4</td><td>1.34</td><td>0.34</td><td>0.35</td><td>588</td><td>0.1568</td></tr>\n",
       "</tbody>\n",
       "</table>\n"
      ],
      "text/latex": [
       "A data.frame: 5 × 12\n",
       "\\begin{tabular}{r|llllllllllll}\n",
       "  & FIRM & PT & PE & CR & DCR & AS & CAS & GR & DIV2 & DIV3 & SIZ & LRSIZ\\\\\n",
       "  & <chr> & <dbl> & <dbl> & <int> & <int> & <dbl> & <dbl> & <dbl> & <dbl> & <dbl> & <int> & <dbl>\\\\\n",
       "\\hline\n",
       "\t1 & Alberto-Culver    & 0.30 & 0.17 & 40 & 0 & 16.5 & 28.0 & 1.67 & 0.28 & 0.28 &  37 & 0.2769\\\\\n",
       "\t2 & American-Bakeries & 0.09 & 0.06 & 55 & 1 &  0.9 &  0.4 & 1.16 & 0.00 & 0.00 &  78 & 0.2295\\\\\n",
       "\t3 & American-Sugar    & 0.11 & 0.07 & 43 & 0 &  0.2 &  0.5 & 1.13 & 0.00 & 0.00 & 269 & 0.1787\\\\\n",
       "\t4 & Anheuser-Busch    & 0.13 & 0.10 & 80 & 1 &  3.3 &  2.6 & 1.37 & 0.00 & 0.13 & 366 & 0.1694\\\\\n",
       "\t5 & Armour            & 0.09 & 0.06 & 31 & 0 &  0.2 &  0.4 & 1.34 & 0.34 & 0.35 & 588 & 0.1568\\\\\n",
       "\\end{tabular}\n"
      ],
      "text/markdown": [
       "\n",
       "A data.frame: 5 × 12\n",
       "\n",
       "| <!--/--> | FIRM &lt;chr&gt; | PT &lt;dbl&gt; | PE &lt;dbl&gt; | CR &lt;int&gt; | DCR &lt;int&gt; | AS &lt;dbl&gt; | CAS &lt;dbl&gt; | GR &lt;dbl&gt; | DIV2 &lt;dbl&gt; | DIV3 &lt;dbl&gt; | SIZ &lt;int&gt; | LRSIZ &lt;dbl&gt; |\n",
       "|---|---|---|---|---|---|---|---|---|---|---|---|---|\n",
       "| 1 | Alberto-Culver    | 0.30 | 0.17 | 40 | 0 | 16.5 | 28.0 | 1.67 | 0.28 | 0.28 |  37 | 0.2769 |\n",
       "| 2 | American-Bakeries | 0.09 | 0.06 | 55 | 1 |  0.9 |  0.4 | 1.16 | 0.00 | 0.00 |  78 | 0.2295 |\n",
       "| 3 | American-Sugar    | 0.11 | 0.07 | 43 | 0 |  0.2 |  0.5 | 1.13 | 0.00 | 0.00 | 269 | 0.1787 |\n",
       "| 4 | Anheuser-Busch    | 0.13 | 0.10 | 80 | 1 |  3.3 |  2.6 | 1.37 | 0.00 | 0.13 | 366 | 0.1694 |\n",
       "| 5 | Armour            | 0.09 | 0.06 | 31 | 0 |  0.2 |  0.4 | 1.34 | 0.34 | 0.35 | 588 | 0.1568 |\n",
       "\n"
      ],
      "text/plain": [
       "  FIRM              PT   PE   CR DCR AS   CAS  GR   DIV2 DIV3 SIZ LRSIZ \n",
       "1 Alberto-Culver    0.30 0.17 40 0   16.5 28.0 1.67 0.28 0.28  37 0.2769\n",
       "2 American-Bakeries 0.09 0.06 55 1    0.9  0.4 1.16 0.00 0.00  78 0.2295\n",
       "3 American-Sugar    0.11 0.07 43 0    0.2  0.5 1.13 0.00 0.00 269 0.1787\n",
       "4 Anheuser-Busch    0.13 0.10 80 1    3.3  2.6 1.37 0.00 0.13 366 0.1694\n",
       "5 Armour            0.09 0.06 31 0    0.2  0.4 1.34 0.34 0.35 588 0.1568"
      ]
     },
     "metadata": {},
     "output_type": "display_data"
    }
   ],
   "source": [
    "# upload data\n",
    "\n",
    "firm_profit_df = read.csv('2F - FirmProfit.csv', header=TRUE)\n",
    "head(firm_profit_df,5)"
   ]
  },
  {
   "cell_type": "code",
   "execution_count": 116,
   "id": "dedicated-holocaust",
   "metadata": {},
   "outputs": [],
   "source": [
    "#####################################################################\n",
    "######################## PE boxplot #################################\n",
    "pe.box = ggplot(data=firm_profit_df, aes(x=PE)) +\n",
    "\n",
    "geom_boxplot(fill='red') +\n",
    " \n",
    "#### lable names ####\n",
    "labs(x='PE',y='', title='Box Plot') + \n",
    "\n",
    "#### Title-label ####\n",
    "theme(plot.title = element_text(hjust=.5, size=20, face='bold')) +\n",
    "\n",
    "#### x-label ####\n",
    "theme(axis.title.x = element_text(hjust=.5, size=15, face='bold')) +\n",
    "\n",
    "#### y-label ####\n",
    "theme(axis.title.x = element_text(hjust=.5, size=15, face='bold'))\n",
    "#######################################################################\n",
    "######################## PE histogram #################################\n",
    "pe.his = ggplot(data=firm_profit_df, aes(x=PE))+\n",
    "\n",
    "#histogram\n",
    "geom_histogram(bins = 15, fill = 'red', color = 'black')+\n",
    "\n",
    "# lable names\n",
    "labs(x='PE', y='Frequency',title='Histogram')+\n",
    "\n",
    "# title-label\n",
    "theme(plot.title = element_text(hjust=.5, size=20, face='bold')) +\n",
    "\n",
    "# y-label\n",
    "theme(axis.title.y = element_text(hjust=.5, size=15, face='bold')) +\n",
    "\n",
    "# x-label\n",
    "theme(axis.title.x = element_text(hjust=.5, size=15, face='bold')) \n",
    "########################################################################\n",
    "######################## PT vs PE scatt ################################\n",
    "pe.scat = ggplot(data=firm_profit_df, aes(x=PE,y=PT)) + \n",
    "\n",
    "#### point settings ###\n",
    "geom_point(shape=1,size=4,color=\"red\") + \n",
    "\n",
    "#### lable names ####\n",
    "labs(x='PE', y='PT', title='Scatter Plot') + \n",
    "\n",
    "#### Title-label ####\n",
    "theme(plot.title = element_text(hjust=.5, size=20, face='bold')) +\n",
    "\n",
    "#### x-label ####\n",
    "theme(axis.title.x = element_text(hjust=.5, size=15, face='bold')) +\n",
    "\n",
    "#### y-label ####\n",
    "theme(axis.title.y = element_text(hjust=.5, size=15, face='bold'))"
   ]
  },
  {
   "cell_type": "code",
   "execution_count": 117,
   "id": "alien-mounting",
   "metadata": {},
   "outputs": [],
   "source": [
    "#####################################################################\n",
    "######################## CR boxplot #################################\n",
    "cr.box = ggplot(data=firm_profit_df, aes(x=CR)) +\n",
    "\n",
    "geom_boxplot(fill='orange') +\n",
    " \n",
    "#### lable names ####\n",
    "labs(x='CR',y='', title='Box Plot') + \n",
    "\n",
    "#### Title-label ####\n",
    "theme(plot.title = element_text(hjust=.5, size=20, face='bold')) +\n",
    "\n",
    "#### x-label ####\n",
    "theme(axis.title.x = element_text(hjust=.5, size=15, face='bold')) +\n",
    "\n",
    "#### y-label ####\n",
    "theme(axis.title.x = element_text(hjust=.5, size=15, face='bold'))\n",
    "#######################################################################\n",
    "######################## CR histogram #################################\n",
    "cr.his = ggplot(data=firm_profit_df, aes(x=CR))+\n",
    "\n",
    "#histogram\n",
    "geom_histogram(bins = 15, fill = 'orange', color = 'black')+\n",
    "\n",
    "# lable names\n",
    "labs(x='CR', y='Frequency',title='Histogram')+\n",
    "\n",
    "# title-label\n",
    "theme(plot.title = element_text(hjust=.5, size=20, face='bold')) +\n",
    "\n",
    "# y-label\n",
    "theme(axis.title.y = element_text(hjust=.5, size=15, face='bold')) +\n",
    "\n",
    "# x-label\n",
    "theme(axis.title.x = element_text(hjust=.5, size=15, face='bold')) \n",
    "########################################################################\n",
    "######################## PT vs CR scatt ################################\n",
    "cr.scat = ggplot(data=firm_profit_df, aes(x=CR,y=PT)) + \n",
    "\n",
    "#### point settings ###\n",
    "geom_point(shape=1,size=4,color=\"orange\") + \n",
    "\n",
    "#### lable names ####\n",
    "labs(x='CR', y='PT', title='Scatter Plot') + \n",
    "\n",
    "#### Title-label ####\n",
    "theme(plot.title = element_text(hjust=.5, size=20, face='bold')) +\n",
    "\n",
    "#### x-label ####\n",
    "theme(axis.title.x = element_text(hjust=.5, size=15, face='bold')) +\n",
    "\n",
    "#### y-label ####\n",
    "theme(axis.title.y = element_text(hjust=.5, size=15, face='bold'))"
   ]
  },
  {
   "cell_type": "code",
   "execution_count": 118,
   "id": "democratic-apollo",
   "metadata": {},
   "outputs": [],
   "source": [
    "#####################################################################\n",
    "######################## AS boxplot #################################\n",
    "as.box = ggplot(data=firm_profit_df, aes(x=AS)) +\n",
    "\n",
    "geom_boxplot(fill='yellow') +\n",
    " \n",
    "#### lable names ####\n",
    "labs(x='AS',y='', title='Box Plot') + \n",
    "\n",
    "#### Title-label ####\n",
    "theme(plot.title = element_text(hjust=.5, size=20, face='bold')) +\n",
    "\n",
    "#### x-label ####\n",
    "theme(axis.title.x = element_text(hjust=.5, size=15, face='bold')) +\n",
    "\n",
    "#### y-label ####\n",
    "theme(axis.title.x = element_text(hjust=.5, size=15, face='bold'))\n",
    "#######################################################################\n",
    "######################## AS histogram #################################\n",
    "as.his = ggplot(data=firm_profit_df, aes(x=AS))+\n",
    "\n",
    "#histogram\n",
    "geom_histogram(bins = 15, fill = 'yellow', color = 'black')+\n",
    "\n",
    "# lable names\n",
    "labs(x='AS', y='Frequency',title='Histogram')+\n",
    "\n",
    "# title-label\n",
    "theme(plot.title = element_text(hjust=.5, size=20, face='bold')) +\n",
    "\n",
    "# y-label\n",
    "theme(axis.title.y = element_text(hjust=.5, size=15, face='bold')) +\n",
    "\n",
    "# x-label\n",
    "theme(axis.title.x = element_text(hjust=.5, size=15, face='bold')) \n",
    "########################################################################\n",
    "######################## PT vs AS scatt ################################\n",
    "as.scat = ggplot(data=firm_profit_df, aes(x=AS,y=PT)) + \n",
    "\n",
    "#### point settings ###\n",
    "geom_point(shape=1,size=4,color=\"yellow\") + \n",
    "\n",
    "#### lable names ####\n",
    "labs(x='AS', y='PT', title='Scatter Plot') + \n",
    "\n",
    "#### Title-label ####\n",
    "theme(plot.title = element_text(hjust=.5, size=20, face='bold')) +\n",
    "\n",
    "#### x-label ####\n",
    "theme(axis.title.x = element_text(hjust=.5, size=15, face='bold')) +\n",
    "\n",
    "#### y-label ####\n",
    "theme(axis.title.y = element_text(hjust=.5, size=15, face='bold'))"
   ]
  },
  {
   "cell_type": "code",
   "execution_count": 119,
   "id": "inappropriate-journal",
   "metadata": {},
   "outputs": [],
   "source": [
    "#####################################################################\n",
    "######################## CAS boxplot #################################\n",
    "cas.box = ggplot(data=firm_profit_df, aes(x=CAS)) +\n",
    "\n",
    "geom_boxplot(fill='green') +\n",
    " \n",
    "#### lable names ####\n",
    "labs(x='CAS',y='', title='Box Plot') + \n",
    "\n",
    "#### Title-label ####\n",
    "theme(plot.title = element_text(hjust=.5, size=20, face='bold')) +\n",
    "\n",
    "#### x-label ####\n",
    "theme(axis.title.x = element_text(hjust=.5, size=15, face='bold')) +\n",
    "\n",
    "#### y-label ####\n",
    "theme(axis.title.x = element_text(hjust=.5, size=15, face='bold'))\n",
    "#######################################################################\n",
    "######################## CAS histogram #################################\n",
    "cas.his = ggplot(data=firm_profit_df, aes(x=CAS))+\n",
    "\n",
    "#histogram\n",
    "geom_histogram(bins = 15, fill = 'green', color = 'black')+\n",
    "\n",
    "# lable names\n",
    "labs(x='CAS', y='Frequency',title='Histogram')+\n",
    "\n",
    "# title-label\n",
    "theme(plot.title = element_text(hjust=.5, size=20, face='bold')) +\n",
    "\n",
    "# y-label\n",
    "theme(axis.title.y = element_text(hjust=.5, size=15, face='bold')) +\n",
    "\n",
    "# x-label\n",
    "theme(axis.title.x = element_text(hjust=.5, size=15, face='bold')) \n",
    "########################################################################\n",
    "######################## PT vs CAS scatt ################################\n",
    "cas.scat = ggplot(data=firm_profit_df, aes(x=CAS,y=PT)) + \n",
    "\n",
    "#### point settings ###\n",
    "geom_point(shape=1,size=4,color=\"green\") + \n",
    "\n",
    "#### lable names ####\n",
    "labs(x='CAS', y='PT', title='Scatter Plot') + \n",
    "\n",
    "#### Title-label ####\n",
    "theme(plot.title = element_text(hjust=.5, size=20, face='bold')) +\n",
    "\n",
    "#### x-label ####\n",
    "theme(axis.title.x = element_text(hjust=.5, size=15, face='bold')) +\n",
    "\n",
    "#### y-label ####\n",
    "theme(axis.title.y = element_text(hjust=.5, size=15, face='bold'))"
   ]
  },
  {
   "cell_type": "code",
   "execution_count": 120,
   "id": "moving-surface",
   "metadata": {},
   "outputs": [],
   "source": [
    "#####################################################################\n",
    "######################## GR boxplot #################################\n",
    "gr.box = ggplot(data=firm_profit_df, aes(x=GR)) +\n",
    "\n",
    "geom_boxplot(fill='blue') +\n",
    " \n",
    "#### lable names ####\n",
    "labs(x='GR',y='', title='Box Plot') + \n",
    "\n",
    "#### Title-label ####\n",
    "theme(plot.title = element_text(hjust=.5, size=20, face='bold')) +\n",
    "\n",
    "#### x-label ####\n",
    "theme(axis.title.x = element_text(hjust=.5, size=15, face='bold')) +\n",
    "\n",
    "#### y-label ####\n",
    "theme(axis.title.x = element_text(hjust=.5, size=15, face='bold'))\n",
    "#######################################################################\n",
    "######################## GR histogram #################################\n",
    "gr.his = ggplot(data=firm_profit_df, aes(x=GR))+\n",
    "\n",
    "#histogram\n",
    "geom_histogram(bins = 15, fill = 'blue', color = 'black')+\n",
    "\n",
    "# lable names\n",
    "labs(x='GR', y='Frequency',title='Histogram')+\n",
    "\n",
    "# title-label\n",
    "theme(plot.title = element_text(hjust=.5, size=20, face='bold')) +\n",
    "\n",
    "# y-label\n",
    "theme(axis.title.y = element_text(hjust=.5, size=15, face='bold')) +\n",
    "\n",
    "# x-label\n",
    "theme(axis.title.x = element_text(hjust=.5, size=15, face='bold')) \n",
    "########################################################################\n",
    "######################## PT vs GR scatt ################################\n",
    "gr.scat = ggplot(data=firm_profit_df, aes(x=GR,y=PT)) + \n",
    "\n",
    "#### point settings ###\n",
    "geom_point(shape=1,size=4,color=\"blue\") + \n",
    "\n",
    "#### lable names ####\n",
    "labs(x='GR', y='PT', title='Scatter Plot') + \n",
    "\n",
    "#### Title-label ####\n",
    "theme(plot.title = element_text(hjust=.5, size=20, face='bold')) +\n",
    "\n",
    "#### x-label ####\n",
    "theme(axis.title.x = element_text(hjust=.5, size=15, face='bold')) +\n",
    "\n",
    "#### y-label ####\n",
    "theme(axis.title.y = element_text(hjust=.5, size=15, face='bold'))"
   ]
  },
  {
   "cell_type": "code",
   "execution_count": 121,
   "id": "applicable-algorithm",
   "metadata": {},
   "outputs": [],
   "source": [
    "#####################################################################\n",
    "######################## DIV2 boxplot #################################\n",
    "div2.box = ggplot(data=firm_profit_df, aes(x=DIV2)) +\n",
    "\n",
    "geom_boxplot(fill='#4b0082') +\n",
    " \n",
    "#### lable names ####\n",
    "labs(x='DIV2',y='', title='Box Plot') + \n",
    "\n",
    "#### Title-label ####\n",
    "theme(plot.title = element_text(hjust=.5, size=20, face='bold')) +\n",
    "\n",
    "#### x-label ####\n",
    "theme(axis.title.x = element_text(hjust=.5, size=15, face='bold')) +\n",
    "\n",
    "#### y-label ####\n",
    "theme(axis.title.x = element_text(hjust=.5, size=15, face='bold'))\n",
    "#######################################################################\n",
    "######################## DIV3 histogram #################################\n",
    "div2.his = ggplot(data=firm_profit_df, aes(x=DIV2))+\n",
    "\n",
    "#histogram\n",
    "geom_histogram(bins = 15, fill = '#4b0082', color = 'black')+\n",
    "\n",
    "# lable names\n",
    "labs(x='DIV2', y='Frequency',title='Histogram')+\n",
    "\n",
    "# title-label\n",
    "theme(plot.title = element_text(hjust=.5, size=20, face='bold')) +\n",
    "\n",
    "# y-label\n",
    "theme(axis.title.y = element_text(hjust=.5, size=15, face='bold')) +\n",
    "\n",
    "# x-label\n",
    "theme(axis.title.x = element_text(hjust=.5, size=15, face='bold')) \n",
    "########################################################################\n",
    "######################## PT vs DIV2 scatt ################################\n",
    "div2.scat = ggplot(data=firm_profit_df, aes(x=DIV2,y=PT)) + \n",
    "\n",
    "#### point settings ###\n",
    "geom_point(shape=1,size=4,color=\"#4b0082\") + \n",
    "\n",
    "#### lable names ####\n",
    "labs(x='DIV2', y='PT', title='Scatter Plot') + \n",
    "\n",
    "#### Title-label ####\n",
    "theme(plot.title = element_text(hjust=.5, size=20, face='bold')) +\n",
    "\n",
    "#### x-label ####\n",
    "theme(axis.title.x = element_text(hjust=.5, size=15, face='bold')) +\n",
    "\n",
    "#### y-label ####\n",
    "theme(axis.title.y = element_text(hjust=.5, size=15, face='bold'))"
   ]
  },
  {
   "cell_type": "code",
   "execution_count": 122,
   "id": "burning-tyler",
   "metadata": {},
   "outputs": [],
   "source": [
    "#####################################################################\n",
    "######################## DIV3 boxplot #################################\n",
    "div3.box = ggplot(data=firm_profit_df, aes(x=DIV3)) +\n",
    "\n",
    "geom_boxplot(fill='violet') +\n",
    " \n",
    "#### lable names ####\n",
    "labs(x='DIV3',y='', title='Box Plot') + \n",
    "\n",
    "#### Title-label ####\n",
    "theme(plot.title = element_text(hjust=.5, size=20, face='bold')) +\n",
    "\n",
    "#### x-label ####\n",
    "theme(axis.title.x = element_text(hjust=.5, size=15, face='bold')) +\n",
    "\n",
    "#### y-label ####\n",
    "theme(axis.title.x = element_text(hjust=.5, size=15, face='bold'))\n",
    "#######################################################################\n",
    "######################## DIV3 histogram #################################\n",
    "div3.his = ggplot(data=firm_profit_df, aes(x=DIV3))+\n",
    "\n",
    "#histogram\n",
    "geom_histogram(bins = 15, fill = 'violet', color = 'black')+\n",
    "\n",
    "# lable names\n",
    "labs(x='DIV3', y='Frequency',title='Histogram')+\n",
    "\n",
    "# title-label\n",
    "theme(plot.title = element_text(hjust=.5, size=20, face='bold')) +\n",
    "\n",
    "# y-label\n",
    "theme(axis.title.y = element_text(hjust=.5, size=15, face='bold')) +\n",
    "\n",
    "# x-label\n",
    "theme(axis.title.x = element_text(hjust=.5, size=15, face='bold')) \n",
    "########################################################################\n",
    "######################## PT vs DIV3 scatt ################################\n",
    "div3.scat = ggplot(data=firm_profit_df, aes(x=DIV3,y=PT)) + \n",
    "\n",
    "#### point settings ###\n",
    "geom_point(shape=1,size=4,color=\"violet\") + \n",
    "\n",
    "#### lable names ####\n",
    "labs(x='DIV3', y='PT', title='Scatter Plot') + \n",
    "\n",
    "#### Title-label ####\n",
    "theme(plot.title = element_text(hjust=.5, size=20, face='bold')) +\n",
    "\n",
    "#### x-label ####\n",
    "theme(axis.title.x = element_text(hjust=.5, size=15, face='bold')) +\n",
    "\n",
    "#### y-label ####\n",
    "theme(axis.title.y = element_text(hjust=.5, size=15, face='bold'))"
   ]
  },
  {
   "cell_type": "code",
   "execution_count": 123,
   "id": "stunning-determination",
   "metadata": {},
   "outputs": [],
   "source": [
    "#####################################################################\n",
    "######################## SIZ boxplot #################################\n",
    "siz.box = ggplot(data=firm_profit_df, aes(x=SIZ)) +\n",
    "\n",
    "geom_boxplot(fill='cyan') +\n",
    " \n",
    "#### lable names ####\n",
    "labs(x='SIZ',y='', title='Box Plot') + \n",
    "\n",
    "#### Title-label ####\n",
    "theme(plot.title = element_text(hjust=.5, size=20, face='bold')) +\n",
    "\n",
    "#### x-label ####\n",
    "theme(axis.title.x = element_text(hjust=.5, size=15, face='bold')) +\n",
    "\n",
    "#### y-label ####\n",
    "theme(axis.title.x = element_text(hjust=.5, size=15, face='bold'))\n",
    "#######################################################################\n",
    "######################## SIZ histogram #################################\n",
    "siz.his = ggplot(data=firm_profit_df, aes(x=SIZ))+\n",
    "\n",
    "#histogram\n",
    "geom_histogram(bins = 15, fill = 'cyan', color = 'black')+\n",
    "\n",
    "# lable names\n",
    "labs(x='SIZ', y='Frequency',title='Histogram')+\n",
    "\n",
    "# title-label\n",
    "theme(plot.title = element_text(hjust=.5, size=20, face='bold')) +\n",
    "\n",
    "# y-label\n",
    "theme(axis.title.y = element_text(hjust=.5, size=15, face='bold')) +\n",
    "\n",
    "# x-label\n",
    "theme(axis.title.x = element_text(hjust=.5, size=15, face='bold')) \n",
    "########################################################################\n",
    "######################## PT vs SIZ scatt ################################\n",
    "siz.scat = ggplot(data=firm_profit_df, aes(x=SIZ,y=PT)) + \n",
    "\n",
    "#### point settings ###\n",
    "geom_point(shape=1,size=4,color=\"cyan\") + \n",
    "\n",
    "#### lable names ####\n",
    "labs(x='SIZ', y='PT', title='Scatter Plot') + \n",
    "\n",
    "#### Title-label ####\n",
    "theme(plot.title = element_text(hjust=.5, size=20, face='bold')) +\n",
    "\n",
    "#### x-label ####\n",
    "theme(axis.title.x = element_text(hjust=.5, size=15, face='bold')) +\n",
    "\n",
    "#### y-label ####\n",
    "theme(axis.title.y = element_text(hjust=.5, size=15, face='bold'))"
   ]
  },
  {
   "cell_type": "code",
   "execution_count": 124,
   "id": "simplified-armenia",
   "metadata": {},
   "outputs": [],
   "source": [
    "#####################################################################\n",
    "######################## LRSIZ boxplot #################################\n",
    "lrsiz.box = ggplot(data=firm_profit_df, aes(x=LRSIZ)) +\n",
    "\n",
    "geom_boxplot(fill='brown') +\n",
    " \n",
    "#### lable names ####\n",
    "labs(x='LRSIZ',y='', title='Box Plot') + \n",
    "\n",
    "#### Title-label ####\n",
    "theme(plot.title = element_text(hjust=.5, size=20, face='bold')) +\n",
    "\n",
    "#### x-label ####\n",
    "theme(axis.title.x = element_text(hjust=.5, size=15, face='bold')) +\n",
    "\n",
    "#### y-label ####\n",
    "theme(axis.title.x = element_text(hjust=.5, size=15, face='bold'))\n",
    "#######################################################################\n",
    "######################## LRSIZ histogram #################################\n",
    "lrsiz.his = ggplot(data=firm_profit_df, aes(x=LRSIZ))+\n",
    "\n",
    "#histogram\n",
    "geom_histogram(bins = 15, fill = 'brown', color = 'black')+\n",
    "\n",
    "# lable names\n",
    "labs(x='LRSIZ', y='Frequency',title='Histogram')+\n",
    "\n",
    "# title-label\n",
    "theme(plot.title = element_text(hjust=.5, size=20, face='bold')) +\n",
    "\n",
    "# y-label\n",
    "theme(axis.title.y = element_text(hjust=.5, size=15, face='bold')) +\n",
    "\n",
    "# x-label\n",
    "theme(axis.title.x = element_text(hjust=.5, size=15, face='bold')) \n",
    "########################################################################\n",
    "######################## PT vs LRSIZ scatt ################################\n",
    "lrsiz.scat = ggplot(data=firm_profit_df, aes(x=LRSIZ,y=PT)) + \n",
    "\n",
    "#### point settings ###\n",
    "geom_point(shape=1,size=4,color=\"brown\") + \n",
    "\n",
    "#### lable names ####\n",
    "labs(x='LRSIZ', y='PT', title='Scatter Plot') + \n",
    "\n",
    "#### Title-label ####\n",
    "theme(plot.title = element_text(hjust=.5, size=20, face='bold')) +\n",
    "\n",
    "#### x-label ####\n",
    "theme(axis.title.x = element_text(hjust=.5, size=15, face='bold')) +\n",
    "\n",
    "#### y-label ####\n",
    "theme(axis.title.y = element_text(hjust=.5, size=15, face='bold'))"
   ]
  },
  {
   "cell_type": "code",
   "execution_count": null,
   "id": "pursuant-liverpool",
   "metadata": {},
   "outputs": [],
   "source": []
  },
  {
   "cell_type": "code",
   "execution_count": 125,
   "id": "structured-address",
   "metadata": {},
   "outputs": [
    {
     "data": {
      "image/png": "[encoded data removed]",
      "text/plain": [
       "plot without title"
      ]
     },
     "metadata": {
      "image/png": {
       "height": 420,
       "width": 420
      }
     },
     "output_type": "display_data"
    }
   ],
   "source": [
    "pe.box+pe.his+pe.scat+\n",
    "cr.box+cr.his+cr.scat+\n",
    "as.box+as.his+as.scat"
   ]
  },
  {
   "cell_type": "code",
   "execution_count": 126,
   "id": "split-banks",
   "metadata": {},
   "outputs": [
    {
     "data": {
      "image/png": "[encoded data removed]",
      "text/plain": [
       "plot without title"
      ]
     },
     "metadata": {
      "image/png": {
       "height": 420,
       "width": 420
      }
     },
     "output_type": "display_data"
    }
   ],
   "source": [
    "cas.box+cas.his+cas.scat+\n",
    "gr.box+gr.his+gr.scat+\n",
    "div2.box+div2.his+div2.scat"
   ]
  },
  {
   "cell_type": "code",
   "execution_count": 127,
   "id": "drawn-religious",
   "metadata": {},
   "outputs": [
    {
     "data": {
      "image/png": "[encoded data removed]",
      "text/plain": [
       "plot without title"
      ]
     },
     "metadata": {
      "image/png": {
       "height": 420,
       "width": 420
      }
     },
     "output_type": "display_data"
    }
   ],
   "source": [
    "div3.box+div3.his+div3.scat+\n",
    "siz.box+siz.his+siz.scat+\n",
    "lrsiz.box+lrsiz.his+lrsiz.scat"
   ]
  },
  {
   "cell_type": "code",
   "execution_count": null,
   "id": "regulation-swiss",
   "metadata": {},
   "outputs": [],
   "source": []
  },
  {
   "cell_type": "code",
   "execution_count": 9,
   "id": "proper-horizon",
   "metadata": {},
   "outputs": [
    {
     "data": {
      "text/html": [
       "<table class=\"dataframe\">\n",
       "<caption>A data.frame: 3 × 12</caption>\n",
       "<thead>\n",
       "\t<tr><th></th><th scope=col>FIRM</th><th scope=col>PT</th><th scope=col>PE</th><th scope=col>CR</th><th scope=col>DCR</th><th scope=col>AS</th><th scope=col>CAS</th><th scope=col>GR</th><th scope=col>DIV2</th><th scope=col>DIV3</th><th scope=col>SIZ</th><th scope=col>LRSIZ</th></tr>\n",
       "\t<tr><th></th><th scope=col>&lt;chr&gt;</th><th scope=col>&lt;dbl&gt;</th><th scope=col>&lt;dbl&gt;</th><th scope=col>&lt;int&gt;</th><th scope=col>&lt;int&gt;</th><th scope=col>&lt;dbl&gt;</th><th scope=col>&lt;dbl&gt;</th><th scope=col>&lt;dbl&gt;</th><th scope=col>&lt;dbl&gt;</th><th scope=col>&lt;dbl&gt;</th><th scope=col>&lt;int&gt;</th><th scope=col>&lt;dbl&gt;</th></tr>\n",
       "</thead>\n",
       "<tbody>\n",
       "\t<tr><th scope=row>1</th><td>Alberto-Culver   </td><td>0.30</td><td>0.17</td><td>40</td><td>0</td><td>16.5</td><td>28.0</td><td>1.67</td><td>0.28</td><td>0.28</td><td> 37</td><td>0.2769</td></tr>\n",
       "\t<tr><th scope=row>2</th><td>American-Bakeries</td><td>0.09</td><td>0.06</td><td>55</td><td>1</td><td> 0.9</td><td> 0.4</td><td>1.16</td><td>0.00</td><td>0.00</td><td> 78</td><td>0.2295</td></tr>\n",
       "\t<tr><th scope=row>3</th><td>American-Sugar   </td><td>0.11</td><td>0.07</td><td>43</td><td>0</td><td> 0.2</td><td> 0.5</td><td>1.13</td><td>0.00</td><td>0.00</td><td>269</td><td>0.1787</td></tr>\n",
       "</tbody>\n",
       "</table>\n"
      ],
      "text/latex": [
       "A data.frame: 3 × 12\n",
       "\\begin{tabular}{r|llllllllllll}\n",
       "  & FIRM & PT & PE & CR & DCR & AS & CAS & GR & DIV2 & DIV3 & SIZ & LRSIZ\\\\\n",
       "  & <chr> & <dbl> & <dbl> & <int> & <int> & <dbl> & <dbl> & <dbl> & <dbl> & <dbl> & <int> & <dbl>\\\\\n",
       "\\hline\n",
       "\t1 & Alberto-Culver    & 0.30 & 0.17 & 40 & 0 & 16.5 & 28.0 & 1.67 & 0.28 & 0.28 &  37 & 0.2769\\\\\n",
       "\t2 & American-Bakeries & 0.09 & 0.06 & 55 & 1 &  0.9 &  0.4 & 1.16 & 0.00 & 0.00 &  78 & 0.2295\\\\\n",
       "\t3 & American-Sugar    & 0.11 & 0.07 & 43 & 0 &  0.2 &  0.5 & 1.13 & 0.00 & 0.00 & 269 & 0.1787\\\\\n",
       "\\end{tabular}\n"
      ],
      "text/markdown": [
       "\n",
       "A data.frame: 3 × 12\n",
       "\n",
       "| <!--/--> | FIRM &lt;chr&gt; | PT &lt;dbl&gt; | PE &lt;dbl&gt; | CR &lt;int&gt; | DCR &lt;int&gt; | AS &lt;dbl&gt; | CAS &lt;dbl&gt; | GR &lt;dbl&gt; | DIV2 &lt;dbl&gt; | DIV3 &lt;dbl&gt; | SIZ &lt;int&gt; | LRSIZ &lt;dbl&gt; |\n",
       "|---|---|---|---|---|---|---|---|---|---|---|---|---|\n",
       "| 1 | Alberto-Culver    | 0.30 | 0.17 | 40 | 0 | 16.5 | 28.0 | 1.67 | 0.28 | 0.28 |  37 | 0.2769 |\n",
       "| 2 | American-Bakeries | 0.09 | 0.06 | 55 | 1 |  0.9 |  0.4 | 1.16 | 0.00 | 0.00 |  78 | 0.2295 |\n",
       "| 3 | American-Sugar    | 0.11 | 0.07 | 43 | 0 |  0.2 |  0.5 | 1.13 | 0.00 | 0.00 | 269 | 0.1787 |\n",
       "\n"
      ],
      "text/plain": [
       "  FIRM              PT   PE   CR DCR AS   CAS  GR   DIV2 DIV3 SIZ LRSIZ \n",
       "1 Alberto-Culver    0.30 0.17 40 0   16.5 28.0 1.67 0.28 0.28  37 0.2769\n",
       "2 American-Bakeries 0.09 0.06 55 1    0.9  0.4 1.16 0.00 0.00  78 0.2295\n",
       "3 American-Sugar    0.11 0.07 43 0    0.2  0.5 1.13 0.00 0.00 269 0.1787"
      ]
     },
     "metadata": {},
     "output_type": "display_data"
    }
   ],
   "source": [
    "head(firm_profit_df,3)"
   ]
  },
  {
   "cell_type": "code",
   "execution_count": null,
   "id": "considerable-helping",
   "metadata": {},
   "outputs": [],
   "source": []
  },
  {
   "cell_type": "code",
   "execution_count": 29,
   "id": "imported-midnight",
   "metadata": {},
   "outputs": [
    {
     "data": {
      "text/html": [
       "<style>\n",
       ".list-inline {list-style: none; margin:0; padding: 0}\n",
       ".list-inline>li {display: inline-block}\n",
       ".list-inline>li:not(:last-child)::after {content: \"\\00b7\"; padding: 0 .5ex}\n",
       "</style>\n",
       "<ol class=list-inline><li>9573480.63155159</li><li>109519.064603014</li><li>2604.70192550467</li><li>657.56145197888</li><li>10.8370390898704</li><li>4.99823468751705</li><li>0.413937853275911</li><li>0.137651174941192</li><li>0.0793350163191742</li></ol>\n"
      ],
      "text/latex": [
       "\\begin{enumerate*}\n",
       "\\item 9573480.63155159\n",
       "\\item 109519.064603014\n",
       "\\item 2604.70192550467\n",
       "\\item 657.56145197888\n",
       "\\item 10.8370390898704\n",
       "\\item 4.99823468751705\n",
       "\\item 0.413937853275911\n",
       "\\item 0.137651174941192\n",
       "\\item 0.0793350163191742\n",
       "\\end{enumerate*}\n"
      ],
      "text/markdown": [
       "1. 9573480.63155159\n",
       "2. 109519.064603014\n",
       "3. 2604.70192550467\n",
       "4. 657.56145197888\n",
       "5. 10.8370390898704\n",
       "6. 4.99823468751705\n",
       "7. 0.413937853275911\n",
       "8. 0.137651174941192\n",
       "9. 0.0793350163191742\n",
       "\n",
       "\n"
      ],
      "text/plain": [
       "[1] 9.573481e+06 1.095191e+05 2.604702e+03 6.575615e+02 1.083704e+01\n",
       "[6] 4.998235e+00 4.139379e-01 1.376512e-01 7.933502e-02"
      ]
     },
     "metadata": {},
     "output_type": "display_data"
    }
   ],
   "source": [
    "###### Full blown model #####\n",
    "ind_vars = c('PE','CR','AS','CAS','GR','DIV2','DIV3','SIZ','LRSIZ')\n",
    "model = lm(PT ~PE+CR+AS+CAS+GR+DIV2+DIV3+SIZ+LRSIZ,data=firm_profit_df)\n",
    "\n",
    "######### eigenn values #########\n",
    "X = model.matrix(model)[,-1]\n",
    "eig = eigen(t(X)%*%X)\n",
    "eig$val\n",
    "K = sqrt(eig$val[1]/eig$val)"
   ]
  },
  {
   "cell_type": "code",
   "execution_count": null,
   "id": "naval-mechanics",
   "metadata": {},
   "outputs": [],
   "source": []
  },
  {
   "cell_type": "code",
   "execution_count": 30,
   "id": "allied-nature",
   "metadata": {},
   "outputs": [
    {
     "data": {
      "image/png": "[encoded data removed]",
      "text/plain": [
       "Plot with title \"\""
      ]
     },
     "metadata": {
      "image/png": {
       "height": 420,
       "width": 420
      }
     },
     "output_type": "display_data"
    }
   ],
   "source": [
    "### corr maxtrix trail 1###\n",
    "\n",
    "X = model.matrix(model)[,-1] # remove the intercept part\n",
    "M = cor(X)\n",
    "corrplot(M, method=\"number\",col = rainbow(12)) ### AS variable will be removed"
   ]
  },
  {
   "cell_type": "code",
   "execution_count": 132,
   "id": "united-movie",
   "metadata": {},
   "outputs": [
    {
     "data": {
      "text/html": [
       "<style>\n",
       ".dl-inline {width: auto; margin:0; padding: 0}\n",
       ".dl-inline>dt, .dl-inline>dd {float: none; width: auto; display: inline-block}\n",
       ".dl-inline>dt::after {content: \":\\0020\"; padding-right: .5ex}\n",
       ".dl-inline>dt:not(:first-of-type) {padding-left: .5ex}\n",
       "</style><dl class=dl-inline><dt>PE</dt><dd>1.323</dd><dt>CR</dt><dd>1.674</dd><dt>CAS</dt><dd>1.713</dd><dt>GR</dt><dd>2.155</dd><dt>DIV2</dt><dd>3.525</dd><dt>DIV3</dt><dd>3.835</dd><dt>SIZ</dt><dd>2.604</dd><dt>LRSIZ</dt><dd>2.397</dd></dl>\n"
      ],
      "text/latex": [
       "\\begin{description*}\n",
       "\\item[PE] 1.323\n",
       "\\item[CR] 1.674\n",
       "\\item[CAS] 1.713\n",
       "\\item[GR] 2.155\n",
       "\\item[DIV2] 3.525\n",
       "\\item[DIV3] 3.835\n",
       "\\item[SIZ] 2.604\n",
       "\\item[LRSIZ] 2.397\n",
       "\\end{description*}\n"
      ],
      "text/markdown": [
       "PE\n",
       ":   1.323CR\n",
       ":   1.674CAS\n",
       ":   1.713GR\n",
       ":   2.155DIV2\n",
       ":   3.525DIV3\n",
       ":   3.835SIZ\n",
       ":   2.604LRSIZ\n",
       ":   2.397\n",
       "\n"
      ],
      "text/plain": [
       "   PE    CR   CAS    GR  DIV2  DIV3   SIZ LRSIZ \n",
       "1.323 1.674 1.713 2.155 3.525 3.835 2.604 2.397 "
      ]
     },
     "metadata": {},
     "output_type": "display_data"
    }
   ],
   "source": [
    "model = lm(PT ~PE+CR+CAS+GR+DIV2+DIV3+SIZ+LRSIZ,data=firm_profit_df)\n",
    "round(vif(model),3)"
   ]
  },
  {
   "cell_type": "code",
   "execution_count": 31,
   "id": "weird-woman",
   "metadata": {},
   "outputs": [
    {
     "data": {
      "image/png": "[encoded data removed]",
      "text/plain": [
       "Plot with title \"\""
      ]
     },
     "metadata": {
      "image/png": {
       "height": 420,
       "width": 420
      }
     },
     "output_type": "display_data"
    }
   ],
   "source": [
    "### corr maxtrix trail 2###\n",
    "\n",
    "X = model.matrix(model)[,-1] # remove the intercept part\n",
    "M = cor(X)\n",
    "corrplot(M, method=\"number\",col = rainbow(12)) ### DIV3 variable will be removed"
   ]
  },
  {
   "cell_type": "code",
   "execution_count": 32,
   "id": "funded-peace",
   "metadata": {},
   "outputs": [
    {
     "data": {
      "text/html": [
       "<style>\n",
       ".dl-inline {width: auto; margin:0; padding: 0}\n",
       ".dl-inline>dt, .dl-inline>dd {float: none; width: auto; display: inline-block}\n",
       ".dl-inline>dt::after {content: \":\\0020\"; padding-right: .5ex}\n",
       ".dl-inline>dt:not(:first-of-type) {padding-left: .5ex}\n",
       "</style><dl class=dl-inline><dt>PE</dt><dd>1.307</dd><dt>CR</dt><dd>1.575</dd><dt>CAS</dt><dd>1.705</dd><dt>GR</dt><dd>1.984</dd><dt>DIV2</dt><dd>1.281</dd><dt>SIZ</dt><dd>2.603</dd><dt>LRSIZ</dt><dd>2.356</dd></dl>\n"
      ],
      "text/latex": [
       "\\begin{description*}\n",
       "\\item[PE] 1.307\n",
       "\\item[CR] 1.575\n",
       "\\item[CAS] 1.705\n",
       "\\item[GR] 1.984\n",
       "\\item[DIV2] 1.281\n",
       "\\item[SIZ] 2.603\n",
       "\\item[LRSIZ] 2.356\n",
       "\\end{description*}\n"
      ],
      "text/markdown": [
       "PE\n",
       ":   1.307CR\n",
       ":   1.575CAS\n",
       ":   1.705GR\n",
       ":   1.984DIV2\n",
       ":   1.281SIZ\n",
       ":   2.603LRSIZ\n",
       ":   2.356\n",
       "\n"
      ],
      "text/plain": [
       "   PE    CR   CAS    GR  DIV2   SIZ LRSIZ \n",
       "1.307 1.575 1.705 1.984 1.281 2.603 2.356 "
      ]
     },
     "metadata": {},
     "output_type": "display_data"
    },
    {
     "data": {
      "text/html": [
       "<style>\n",
       ".list-inline {list-style: none; margin:0; padding: 0}\n",
       ".list-inline>li {display: inline-block}\n",
       ".list-inline>li:not(:last-child)::after {content: \"\\00b7\"; padding: 0 .5ex}\n",
       "</style>\n",
       "<ol class=list-inline><li>9572627.78965759</li><li>108528.06170664</li><li>1451.27764860324</li><li>12.1258002822566</li><li>1.71515761884628</li><li>0.170696562350851</li><li>0.092362595029722</li></ol>\n"
      ],
      "text/latex": [
       "\\begin{enumerate*}\n",
       "\\item 9572627.78965759\n",
       "\\item 108528.06170664\n",
       "\\item 1451.27764860324\n",
       "\\item 12.1258002822566\n",
       "\\item 1.71515761884628\n",
       "\\item 0.170696562350851\n",
       "\\item 0.092362595029722\n",
       "\\end{enumerate*}\n"
      ],
      "text/markdown": [
       "1. 9572627.78965759\n",
       "2. 108528.06170664\n",
       "3. 1451.27764860324\n",
       "4. 12.1258002822566\n",
       "5. 1.71515761884628\n",
       "6. 0.170696562350851\n",
       "7. 0.092362595029722\n",
       "\n",
       "\n"
      ],
      "text/plain": [
       "[1] 9.572628e+06 1.085281e+05 1.451278e+03 1.212580e+01 1.715158e+00\n",
       "[6] 1.706966e-01 9.236260e-02"
      ]
     },
     "metadata": {},
     "output_type": "display_data"
    },
    {
     "data": {
      "image/png": "[encoded data removed]",
      "text/plain": [
       "Plot with title \"\""
      ]
     },
     "metadata": {
      "image/png": {
       "height": 420,
       "width": 420
      }
     },
     "output_type": "display_data"
    }
   ],
   "source": [
    "### corr maxtrix trail 3###\n",
    "\n",
    "model = lm(PT ~PE+CR+CAS+GR+DIV2+SIZ+LRSIZ,data=firm_profit_df)\n",
    "round(vif(model),3)\n",
    "\n",
    "### corr maxtrix trail 3###\n",
    "\n",
    "X = model.matrix(model)[,-1] # remove the intercept part\n",
    "M = cor(X)\n",
    "corrplot(M, method=\"number\",col = rainbow(12)) ### SIZ variable will be removed\n",
    "\n",
    "X = model.matrix(model)[,-1]\n",
    "eig = eigen(t(X)%*%X)\n",
    "eig$val"
   ]
  },
  {
   "cell_type": "code",
   "execution_count": 135,
   "id": "functioning-embassy",
   "metadata": {},
   "outputs": [
    {
     "data": {
      "text/html": [
       "<style>\n",
       ".dl-inline {width: auto; margin:0; padding: 0}\n",
       ".dl-inline>dt, .dl-inline>dd {float: none; width: auto; display: inline-block}\n",
       ".dl-inline>dt::after {content: \":\\0020\"; padding-right: .5ex}\n",
       ".dl-inline>dt:not(:first-of-type) {padding-left: .5ex}\n",
       "</style><dl class=dl-inline><dt>PE</dt><dd>1.306</dd><dt>CR</dt><dd>1.575</dd><dt>CAS</dt><dd>1.614</dd><dt>GR</dt><dd>1.942</dd><dt>DIV2</dt><dd>1.178</dd><dt>LRSIZ</dt><dd>1.109</dd></dl>\n"
      ],
      "text/latex": [
       "\\begin{description*}\n",
       "\\item[PE] 1.306\n",
       "\\item[CR] 1.575\n",
       "\\item[CAS] 1.614\n",
       "\\item[GR] 1.942\n",
       "\\item[DIV2] 1.178\n",
       "\\item[LRSIZ] 1.109\n",
       "\\end{description*}\n"
      ],
      "text/markdown": [
       "PE\n",
       ":   1.306CR\n",
       ":   1.575CAS\n",
       ":   1.614GR\n",
       ":   1.942DIV2\n",
       ":   1.178LRSIZ\n",
       ":   1.109\n",
       "\n"
      ],
      "text/plain": [
       "   PE    CR   CAS    GR  DIV2 LRSIZ \n",
       "1.306 1.575 1.614 1.942 1.178 1.109 "
      ]
     },
     "metadata": {},
     "output_type": "display_data"
    },
    {
     "data": {
      "image/png": "[encoded data removed]",
      "text/plain": [
       "Plot with title \"\""
      ]
     },
     "metadata": {
      "image/png": {
       "height": 420,
       "width": 420
      }
     },
     "output_type": "display_data"
    }
   ],
   "source": [
    "model = lm(PT ~PE+CR+CAS+GR+DIV2+LRSIZ,data=firm_profit_df)\n",
    "round(vif(model),3)\n",
    "\n",
    "### corr maxtrix trail 4###\n",
    "\n",
    "X = model.matrix(model)[,-1] # remove the intercept part\n",
    "M = cor(X)\n",
    "corrplot(M, method=\"number\",col = rainbow(12)) ### Looks Great!"
   ]
  },
  {
   "cell_type": "code",
   "execution_count": 11,
   "id": "thermal-equality",
   "metadata": {},
   "outputs": [],
   "source": [
    "ind_vars = c('PE','CR','CAS','GR','DIV2','LRSIZ')\n",
    "results = combination_function('PT',ind_vars,firm_profit_df)"
   ]
  },
  {
   "cell_type": "code",
   "execution_count": 34,
   "id": "awful-hopkins",
   "metadata": {},
   "outputs": [
    {
     "data": {
      "text/html": [
       "<table class=\"dataframe\">\n",
       "<caption>A data.frame: 16 × 2</caption>\n",
       "<thead>\n",
       "\t<tr><th></th><th scope=col>Equation</th><th scope=col>adjusted.r.2</th></tr>\n",
       "\t<tr><th></th><th scope=col>&lt;chr&gt;</th><th scope=col>&lt;dbl&gt;</th></tr>\n",
       "</thead>\n",
       "<tbody>\n",
       "\t<tr><th scope=row>63</th><td>PT = (0.0806) + (1.2197) PE(-4e-04) CR(0.0029) CAS(-0.0385) GR(0.0276) DIV2(-0.1448) LRSIZ</td><td>0.8645994</td></tr>\n",
       "\t<tr><th scope=row>50</th><td>PT = (0.0093) + (1.1922) PE(0.0022) CAS(0.0366) DIV2(-0.1431) LRSIZ                       </td><td>0.8644472</td></tr>\n",
       "\t<tr><th scope=row>59</th><td>PT = (0.0231) + (1.1988) PE(-2e-04) CR(0.0024) CAS(0.0363) DIV2(-0.1513) LRSIZ            </td><td>0.8641758</td></tr>\n",
       "\t<tr><th scope=row>58</th><td>PT = (0.1084) + (1.2222) PE(-5e-04) CR(0.0031) CAS(-0.0521) GR(-0.159) LRSIZ              </td><td>0.8637812</td></tr>\n",
       "\t<tr><th scope=row>61</th><td>PT = (0.022) + (1.1965) PE(0.0023) CAS(-0.0104) GR(0.0343) DIV2(-0.1396) LRSIZ            </td><td>0.8621212</td></tr>\n",
       "\t<tr><th scope=row>28</th><td>PT = (0.0202) + (1.1848) PE(0.0024) CAS(-0.1675) LRSIZ                                    </td><td>0.8604218</td></tr>\n",
       "\t<tr><th scope=row>44</th><td>PT = (0.0342) + (1.1915) PE(-2e-04) CR(0.0025) CAS(-0.1757) LRSIZ                         </td><td>0.8601874</td></tr>\n",
       "\t<tr><th scope=row>49</th><td>PT = (0.0456) + (1.1948) PE(0.0026) CAS(-0.0221) GR(-0.1569) LRSIZ                        </td><td>0.8593117</td></tr>\n",
       "\t<tr><th scope=row>27</th><td>PT = (-0.023) + (1.211) PE(0.0019) CAS(0.0452) DIV2                                       </td><td>0.8579144</td></tr>\n",
       "\t<tr><th scope=row>57</th><td>PT = (0.0535) + (1.2398) PE(-4e-04) CR(0.0025) CAS(-0.0439) GR(0.035) DIV2                </td><td>0.8577760</td></tr>\n",
       "\t<tr><th scope=row>43</th><td>PT = (-0.0139) + (1.2168) PE(-2e-04) CR(0.002) CAS(0.0453) DIV2                           </td><td>0.8565631</td></tr>\n",
       "\t<tr><th scope=row>48</th><td>PT = (-5e-04) + (1.2174) PE(0.002) CAS(-0.0174) GR(0.041) DIV2                            </td><td>0.8561045</td></tr>\n",
       "\t<tr><th scope=row>42</th><td>PT = (0.0862) + (1.2456) PE(-5e-04) CR(0.0029) CAS(-0.0623) GR                            </td><td>0.8548928</td></tr>\n",
       "\t<tr><th scope=row>31</th><td>PT = (0.0022) + (1.2706) PE(0.0431) DIV2(-0.1018) LRSIZ                                   </td><td>0.8511662</td></tr>\n",
       "\t<tr><th scope=row>26</th><td>PT = (0.0249) + (1.2185) PE(0.0023) CAS(-0.0328) GR                                       </td><td>0.8509660</td></tr>\n",
       "\t<tr><th scope=row>8</th><td>PT = (-0.0161) + (1.2055) PE(0.002) CAS                                                   </td><td>0.8502786</td></tr>\n",
       "</tbody>\n",
       "</table>\n"
      ],
      "text/latex": [
       "A data.frame: 16 × 2\n",
       "\\begin{tabular}{r|ll}\n",
       "  & Equation & adjusted.r.2\\\\\n",
       "  & <chr> & <dbl>\\\\\n",
       "\\hline\n",
       "\t63 & PT = (0.0806) + (1.2197) PE(-4e-04) CR(0.0029) CAS(-0.0385) GR(0.0276) DIV2(-0.1448) LRSIZ & 0.8645994\\\\\n",
       "\t50 & PT = (0.0093) + (1.1922) PE(0.0022) CAS(0.0366) DIV2(-0.1431) LRSIZ                        & 0.8644472\\\\\n",
       "\t59 & PT = (0.0231) + (1.1988) PE(-2e-04) CR(0.0024) CAS(0.0363) DIV2(-0.1513) LRSIZ             & 0.8641758\\\\\n",
       "\t58 & PT = (0.1084) + (1.2222) PE(-5e-04) CR(0.0031) CAS(-0.0521) GR(-0.159) LRSIZ               & 0.8637812\\\\\n",
       "\t61 & PT = (0.022) + (1.1965) PE(0.0023) CAS(-0.0104) GR(0.0343) DIV2(-0.1396) LRSIZ             & 0.8621212\\\\\n",
       "\t28 & PT = (0.0202) + (1.1848) PE(0.0024) CAS(-0.1675) LRSIZ                                     & 0.8604218\\\\\n",
       "\t44 & PT = (0.0342) + (1.1915) PE(-2e-04) CR(0.0025) CAS(-0.1757) LRSIZ                          & 0.8601874\\\\\n",
       "\t49 & PT = (0.0456) + (1.1948) PE(0.0026) CAS(-0.0221) GR(-0.1569) LRSIZ                         & 0.8593117\\\\\n",
       "\t27 & PT = (-0.023) + (1.211) PE(0.0019) CAS(0.0452) DIV2                                        & 0.8579144\\\\\n",
       "\t57 & PT = (0.0535) + (1.2398) PE(-4e-04) CR(0.0025) CAS(-0.0439) GR(0.035) DIV2                 & 0.8577760\\\\\n",
       "\t43 & PT = (-0.0139) + (1.2168) PE(-2e-04) CR(0.002) CAS(0.0453) DIV2                            & 0.8565631\\\\\n",
       "\t48 & PT = (-5e-04) + (1.2174) PE(0.002) CAS(-0.0174) GR(0.041) DIV2                             & 0.8561045\\\\\n",
       "\t42 & PT = (0.0862) + (1.2456) PE(-5e-04) CR(0.0029) CAS(-0.0623) GR                             & 0.8548928\\\\\n",
       "\t31 & PT = (0.0022) + (1.2706) PE(0.0431) DIV2(-0.1018) LRSIZ                                    & 0.8511662\\\\\n",
       "\t26 & PT = (0.0249) + (1.2185) PE(0.0023) CAS(-0.0328) GR                                        & 0.8509660\\\\\n",
       "\t8 & PT = (-0.0161) + (1.2055) PE(0.002) CAS                                                    & 0.8502786\\\\\n",
       "\\end{tabular}\n"
      ],
      "text/markdown": [
       "\n",
       "A data.frame: 16 × 2\n",
       "\n",
       "| <!--/--> | Equation &lt;chr&gt; | adjusted.r.2 &lt;dbl&gt; |\n",
       "|---|---|---|\n",
       "| 63 | PT = (0.0806) + (1.2197) PE(-4e-04) CR(0.0029) CAS(-0.0385) GR(0.0276) DIV2(-0.1448) LRSIZ | 0.8645994 |\n",
       "| 50 | PT = (0.0093) + (1.1922) PE(0.0022) CAS(0.0366) DIV2(-0.1431) LRSIZ                        | 0.8644472 |\n",
       "| 59 | PT = (0.0231) + (1.1988) PE(-2e-04) CR(0.0024) CAS(0.0363) DIV2(-0.1513) LRSIZ             | 0.8641758 |\n",
       "| 58 | PT = (0.1084) + (1.2222) PE(-5e-04) CR(0.0031) CAS(-0.0521) GR(-0.159) LRSIZ               | 0.8637812 |\n",
       "| 61 | PT = (0.022) + (1.1965) PE(0.0023) CAS(-0.0104) GR(0.0343) DIV2(-0.1396) LRSIZ             | 0.8621212 |\n",
       "| 28 | PT = (0.0202) + (1.1848) PE(0.0024) CAS(-0.1675) LRSIZ                                     | 0.8604218 |\n",
       "| 44 | PT = (0.0342) + (1.1915) PE(-2e-04) CR(0.0025) CAS(-0.1757) LRSIZ                          | 0.8601874 |\n",
       "| 49 | PT = (0.0456) + (1.1948) PE(0.0026) CAS(-0.0221) GR(-0.1569) LRSIZ                         | 0.8593117 |\n",
       "| 27 | PT = (-0.023) + (1.211) PE(0.0019) CAS(0.0452) DIV2                                        | 0.8579144 |\n",
       "| 57 | PT = (0.0535) + (1.2398) PE(-4e-04) CR(0.0025) CAS(-0.0439) GR(0.035) DIV2                 | 0.8577760 |\n",
       "| 43 | PT = (-0.0139) + (1.2168) PE(-2e-04) CR(0.002) CAS(0.0453) DIV2                            | 0.8565631 |\n",
       "| 48 | PT = (-5e-04) + (1.2174) PE(0.002) CAS(-0.0174) GR(0.041) DIV2                             | 0.8561045 |\n",
       "| 42 | PT = (0.0862) + (1.2456) PE(-5e-04) CR(0.0029) CAS(-0.0623) GR                             | 0.8548928 |\n",
       "| 31 | PT = (0.0022) + (1.2706) PE(0.0431) DIV2(-0.1018) LRSIZ                                    | 0.8511662 |\n",
       "| 26 | PT = (0.0249) + (1.2185) PE(0.0023) CAS(-0.0328) GR                                        | 0.8509660 |\n",
       "| 8 | PT = (-0.0161) + (1.2055) PE(0.002) CAS                                                    | 0.8502786 |\n",
       "\n"
      ],
      "text/plain": [
       "   Equation                                                                                  \n",
       "63 PT = (0.0806) + (1.2197) PE(-4e-04) CR(0.0029) CAS(-0.0385) GR(0.0276) DIV2(-0.1448) LRSIZ\n",
       "50 PT = (0.0093) + (1.1922) PE(0.0022) CAS(0.0366) DIV2(-0.1431) LRSIZ                       \n",
       "59 PT = (0.0231) + (1.1988) PE(-2e-04) CR(0.0024) CAS(0.0363) DIV2(-0.1513) LRSIZ            \n",
       "58 PT = (0.1084) + (1.2222) PE(-5e-04) CR(0.0031) CAS(-0.0521) GR(-0.159) LRSIZ              \n",
       "61 PT = (0.022) + (1.1965) PE(0.0023) CAS(-0.0104) GR(0.0343) DIV2(-0.1396) LRSIZ            \n",
       "28 PT = (0.0202) + (1.1848) PE(0.0024) CAS(-0.1675) LRSIZ                                    \n",
       "44 PT = (0.0342) + (1.1915) PE(-2e-04) CR(0.0025) CAS(-0.1757) LRSIZ                         \n",
       "49 PT = (0.0456) + (1.1948) PE(0.0026) CAS(-0.0221) GR(-0.1569) LRSIZ                        \n",
       "27 PT = (-0.023) + (1.211) PE(0.0019) CAS(0.0452) DIV2                                       \n",
       "57 PT = (0.0535) + (1.2398) PE(-4e-04) CR(0.0025) CAS(-0.0439) GR(0.035) DIV2                \n",
       "43 PT = (-0.0139) + (1.2168) PE(-2e-04) CR(0.002) CAS(0.0453) DIV2                           \n",
       "48 PT = (-5e-04) + (1.2174) PE(0.002) CAS(-0.0174) GR(0.041) DIV2                            \n",
       "42 PT = (0.0862) + (1.2456) PE(-5e-04) CR(0.0029) CAS(-0.0623) GR                            \n",
       "31 PT = (0.0022) + (1.2706) PE(0.0431) DIV2(-0.1018) LRSIZ                                   \n",
       "26 PT = (0.0249) + (1.2185) PE(0.0023) CAS(-0.0328) GR                                       \n",
       "8  PT = (-0.0161) + (1.2055) PE(0.002) CAS                                                   \n",
       "   adjusted.r.2\n",
       "63 0.8645994   \n",
       "50 0.8644472   \n",
       "59 0.8641758   \n",
       "58 0.8637812   \n",
       "61 0.8621212   \n",
       "28 0.8604218   \n",
       "44 0.8601874   \n",
       "49 0.8593117   \n",
       "27 0.8579144   \n",
       "57 0.8577760   \n",
       "43 0.8565631   \n",
       "48 0.8561045   \n",
       "42 0.8548928   \n",
       "31 0.8511662   \n",
       "26 0.8509660   \n",
       "8  0.8502786   "
      ]
     },
     "metadata": {},
     "output_type": "display_data"
    }
   ],
   "source": [
    "##### top 16 from the list #####\n",
    "head(results,16)"
   ]
  },
  {
   "cell_type": "code",
   "execution_count": 35,
   "id": "respiratory-affiliate",
   "metadata": {},
   "outputs": [
    {
     "data": {
      "text/plain": [
       "\n",
       "Call:\n",
       "lm(formula = PT ~ PE + CAS + LRSIZ, data = firm_profit_df)\n",
       "\n",
       "Residuals:\n",
       "      Min        1Q    Median        3Q       Max \n",
       "-0.094078 -0.017058 -0.000543  0.019753  0.101697 \n",
       "\n",
       "Coefficients:\n",
       "             Estimate Std. Error t value Pr(>|t|)    \n",
       "(Intercept)  0.020178   0.018659   1.081   0.2844    \n",
       "PE           1.184759   0.076206  15.547   <2e-16 ***\n",
       "CAS          0.002391   0.000902   2.651   0.0106 *  \n",
       "LRSIZ       -0.167515   0.075489  -2.219   0.0308 *  \n",
       "---\n",
       "Signif. codes:  0 '***' 0.001 '**' 0.01 '*' 0.05 '.' 0.1 ' ' 1\n",
       "\n",
       "Residual standard error: 0.03154 on 53 degrees of freedom\n",
       "Multiple R-squared:  0.8679,\tAdjusted R-squared:  0.8604 \n",
       "F-statistic: 116.1 on 3 and 53 DF,  p-value: < 2.2e-16\n"
      ]
     },
     "metadata": {},
     "output_type": "display_data"
    }
   ],
   "source": [
    "### all models that are sig at 0.05 ###\n",
    "\n",
    "model = lm(PT~PE+CAS+LRSIZ,firm_profit_df) # best model\n",
    "#model = lm(PT~PE+CAS,firm_profit_df)\n",
    "#model3 =lm(PT~PE+DIV2,firm_profit_df)\n",
    "#model4 = lm(PT~PE,firm_profit_df)\n",
    "#model5 = lm(PT~CAS,firm_profit_df)\n",
    "#model6 = lm(PT~CR+GR,firm_profit_df)\n",
    "summary(model)"
   ]
  },
  {
   "cell_type": "code",
   "execution_count": 28,
   "id": "correct-brief",
   "metadata": {},
   "outputs": [],
   "source": []
  },
  {
   "cell_type": "code",
   "execution_count": 14,
   "id": "olive-playlist",
   "metadata": {},
   "outputs": [],
   "source": [
    "# getting the residuals\n",
    "residuals = model$residuals\n",
    "\n",
    "# standardize residuals\n",
    "stand_residuals = rstandard(model)\n",
    "\n",
    "# jackknife residuals\n",
    "jack_residuals = rstudent(model)\n",
    "\n",
    "#find Cook's distance for each observation\n",
    "cooks_distance = cooks.distance(model)\n",
    "\n",
    "#diangoal of the hat matrix\n",
    "leverage = hatvalues(model)\n",
    "\n",
    "#make a dataframe of interest\n",
    "\n",
    "#empty dataframe\n",
    "df = data.frame()\n",
    "\n",
    "\n",
    "#add cols of interest\n",
    "n = length(firm_profit_df$LRSIZ)\n",
    "df = cbind( c(1:n),firm_profit_df$PE,firm_profit_df$CAS,firm_profit_df$LRSIZ,firm_profit_df$PT,fitted(model),model$residuals,stand_residuals,jack_residuals,cooks_distance,leverage)\n",
    "\n",
    "\n",
    "#cols name\n",
    "col_labels=c('observations',\"PE(x2)\",\"CAS(x6)\",\"LRSIZ(x11)\",\"PT(y)\",'PT(yhat)',\"residuals\",\"stand_residuals\",\"jackknife_residuals\",'cooks_distance','leverage')\n",
    "colnames(df) = col_labels\n",
    "\n",
    "#convert matrix to dataframe\n",
    "df = data.frame(df)"
   ]
  },
  {
   "cell_type": "code",
   "execution_count": null,
   "id": "obvious-liver",
   "metadata": {},
   "outputs": [],
   "source": []
  },
  {
   "cell_type": "code",
   "execution_count": 37,
   "id": "dedicated-mobility",
   "metadata": {},
   "outputs": [
    {
     "data": {
      "text/html": [
       "<table class=\"dataframe\">\n",
       "<caption>A data.frame: 5 × 11</caption>\n",
       "<thead>\n",
       "\t<tr><th></th><th scope=col>observations</th><th scope=col>PE.x2.</th><th scope=col>CAS.x6.</th><th scope=col>LRSIZ.x11.</th><th scope=col>PT.y.</th><th scope=col>PT.yhat.</th><th scope=col>residuals</th><th scope=col>stand_residuals</th><th scope=col>jackknife_residuals</th><th scope=col>cooks_distance</th><th scope=col>leverage</th></tr>\n",
       "\t<tr><th></th><th scope=col>&lt;dbl&gt;</th><th scope=col>&lt;dbl&gt;</th><th scope=col>&lt;dbl&gt;</th><th scope=col>&lt;dbl&gt;</th><th scope=col>&lt;dbl&gt;</th><th scope=col>&lt;dbl&gt;</th><th scope=col>&lt;dbl&gt;</th><th scope=col>&lt;dbl&gt;</th><th scope=col>&lt;dbl&gt;</th><th scope=col>&lt;dbl&gt;</th><th scope=col>&lt;dbl&gt;</th></tr>\n",
       "</thead>\n",
       "<tbody>\n",
       "\t<tr><th scope=row>1</th><td>1</td><td>0.17</td><td>28.0</td><td>0.2769</td><td>0.30</td><td>0.24214416</td><td>0.05785584</td><td>2.3179516</td><td>2.4220269</td><td>0.801446577</td><td>0.37369200</td></tr>\n",
       "\t<tr><th scope=row>2</th><td>2</td><td>0.06</td><td> 0.4</td><td>0.2295</td><td>0.09</td><td>0.05377549</td><td>0.03622451</td><td>1.1726884</td><td>1.1769421</td><td>0.014596637</td><td>0.04072766</td></tr>\n",
       "\t<tr><th scope=row>3</th><td>3</td><td>0.07</td><td> 0.5</td><td>0.1787</td><td>0.11</td><td>0.07437192</td><td>0.03562808</td><td>1.1531593</td><td>1.1568333</td><td>0.013981737</td><td>0.04035997</td></tr>\n",
       "\t<tr><th scope=row>4</th><td>4</td><td>0.10</td><td> 2.6</td><td>0.1694</td><td>0.13</td><td>0.11649321</td><td>0.01350679</td><td>0.4352408</td><td>0.4318877</td><td>0.001557424</td><td>0.03183872</td></tr>\n",
       "\t<tr><th scope=row>5</th><td>5</td><td>0.06</td><td> 0.4</td><td>0.1568</td><td>0.09</td><td>0.06595384</td><td>0.02404616</td><td>0.7842292</td><td>0.7813422</td><td>0.008920208</td><td>0.05483485</td></tr>\n",
       "</tbody>\n",
       "</table>\n"
      ],
      "text/latex": [
       "A data.frame: 5 × 11\n",
       "\\begin{tabular}{r|lllllllllll}\n",
       "  & observations & PE.x2. & CAS.x6. & LRSIZ.x11. & PT.y. & PT.yhat. & residuals & stand\\_residuals & jackknife\\_residuals & cooks\\_distance & leverage\\\\\n",
       "  & <dbl> & <dbl> & <dbl> & <dbl> & <dbl> & <dbl> & <dbl> & <dbl> & <dbl> & <dbl> & <dbl>\\\\\n",
       "\\hline\n",
       "\t1 & 1 & 0.17 & 28.0 & 0.2769 & 0.30 & 0.24214416 & 0.05785584 & 2.3179516 & 2.4220269 & 0.801446577 & 0.37369200\\\\\n",
       "\t2 & 2 & 0.06 &  0.4 & 0.2295 & 0.09 & 0.05377549 & 0.03622451 & 1.1726884 & 1.1769421 & 0.014596637 & 0.04072766\\\\\n",
       "\t3 & 3 & 0.07 &  0.5 & 0.1787 & 0.11 & 0.07437192 & 0.03562808 & 1.1531593 & 1.1568333 & 0.013981737 & 0.04035997\\\\\n",
       "\t4 & 4 & 0.10 &  2.6 & 0.1694 & 0.13 & 0.11649321 & 0.01350679 & 0.4352408 & 0.4318877 & 0.001557424 & 0.03183872\\\\\n",
       "\t5 & 5 & 0.06 &  0.4 & 0.1568 & 0.09 & 0.06595384 & 0.02404616 & 0.7842292 & 0.7813422 & 0.008920208 & 0.05483485\\\\\n",
       "\\end{tabular}\n"
      ],
      "text/markdown": [
       "\n",
       "A data.frame: 5 × 11\n",
       "\n",
       "| <!--/--> | observations &lt;dbl&gt; | PE.x2. &lt;dbl&gt; | CAS.x6. &lt;dbl&gt; | LRSIZ.x11. &lt;dbl&gt; | PT.y. &lt;dbl&gt; | PT.yhat. &lt;dbl&gt; | residuals &lt;dbl&gt; | stand_residuals &lt;dbl&gt; | jackknife_residuals &lt;dbl&gt; | cooks_distance &lt;dbl&gt; | leverage &lt;dbl&gt; |\n",
       "|---|---|---|---|---|---|---|---|---|---|---|---|\n",
       "| 1 | 1 | 0.17 | 28.0 | 0.2769 | 0.30 | 0.24214416 | 0.05785584 | 2.3179516 | 2.4220269 | 0.801446577 | 0.37369200 |\n",
       "| 2 | 2 | 0.06 |  0.4 | 0.2295 | 0.09 | 0.05377549 | 0.03622451 | 1.1726884 | 1.1769421 | 0.014596637 | 0.04072766 |\n",
       "| 3 | 3 | 0.07 |  0.5 | 0.1787 | 0.11 | 0.07437192 | 0.03562808 | 1.1531593 | 1.1568333 | 0.013981737 | 0.04035997 |\n",
       "| 4 | 4 | 0.10 |  2.6 | 0.1694 | 0.13 | 0.11649321 | 0.01350679 | 0.4352408 | 0.4318877 | 0.001557424 | 0.03183872 |\n",
       "| 5 | 5 | 0.06 |  0.4 | 0.1568 | 0.09 | 0.06595384 | 0.02404616 | 0.7842292 | 0.7813422 | 0.008920208 | 0.05483485 |\n",
       "\n"
      ],
      "text/plain": [
       "  observations PE.x2. CAS.x6. LRSIZ.x11. PT.y. PT.yhat.   residuals \n",
       "1 1            0.17   28.0    0.2769     0.30  0.24214416 0.05785584\n",
       "2 2            0.06    0.4    0.2295     0.09  0.05377549 0.03622451\n",
       "3 3            0.07    0.5    0.1787     0.11  0.07437192 0.03562808\n",
       "4 4            0.10    2.6    0.1694     0.13  0.11649321 0.01350679\n",
       "5 5            0.06    0.4    0.1568     0.09  0.06595384 0.02404616\n",
       "  stand_residuals jackknife_residuals cooks_distance leverage  \n",
       "1 2.3179516       2.4220269           0.801446577    0.37369200\n",
       "2 1.1726884       1.1769421           0.014596637    0.04072766\n",
       "3 1.1531593       1.1568333           0.013981737    0.04035997\n",
       "4 0.4352408       0.4318877           0.001557424    0.03183872\n",
       "5 0.7842292       0.7813422           0.008920208    0.05483485"
      ]
     },
     "metadata": {},
     "output_type": "display_data"
    }
   ],
   "source": [
    "head(df,5)"
   ]
  },
  {
   "cell_type": "code",
   "execution_count": null,
   "id": "anonymous-actress",
   "metadata": {},
   "outputs": [],
   "source": []
  },
  {
   "cell_type": "code",
   "execution_count": 142,
   "id": "following-mounting",
   "metadata": {},
   "outputs": [
    {
     "data": {
      "image/png": "[encoded data removed]",
      "text/plain": [
       "plot without title"
      ]
     },
     "metadata": {
      "image/png": {
       "height": 420,
       "width": 420
      }
     },
     "output_type": "display_data"
    }
   ],
   "source": [
    "### Linearity ###\n",
    "\n",
    "#upload data\n",
    "ggplot(data=df, aes(x=PT.yhat., y=residuals)) + \n",
    "\n",
    "#point settings\n",
    "geom_point(shape=1,size=7,colour=\"purple\") + # point settings\n",
    "\n",
    "theme_stata() +\n",
    "\n",
    "\n",
    "# lable names\n",
    "labs(x='fitted values', y='residuals', title='Residuals vs Fitted values') + \n",
    "\n",
    "# title-label\n",
    "theme(plot.title = element_text(hjust=.5, size=23, face='bold')) +\n",
    "\n",
    "# x-label\n",
    "theme(axis.title.x = element_text(hjust=.5, size=18, face='bold')) +\n",
    "\n",
    "# y-label\n",
    "theme(axis.title.y = element_text(hjust=.5, size=18, face='bold')) +\n",
    "\n",
    "# add hor line\n",
    "geom_hline(yintercept=0, col = \"black\", size=1) \n",
    "\n",
    "\n"
   ]
  },
  {
   "cell_type": "code",
   "execution_count": 57,
   "id": "signed-store",
   "metadata": {},
   "outputs": [],
   "source": []
  },
  {
   "cell_type": "code",
   "execution_count": 161,
   "id": "consecutive-matter",
   "metadata": {},
   "outputs": [
    {
     "data": {
      "image/png": "[encoded data removed]",
      "text/plain": [
       "plot without title"
      ]
     },
     "metadata": {
      "image/png": {
       "height": 420,
       "width": 420
      }
     },
     "output_type": "display_data"
    }
   ],
   "source": [
    "### normalirty1 ###\n",
    "\n",
    "#upload data\n",
    "ggplot(data=df, aes(sample=residuals)) +\n",
    "\n",
    "# qq plot\n",
    "stat_qq() +\n",
    "\n",
    "# add line\n",
    "geom_qq_line()+\n",
    "\n",
    "scale_color_brewer(palette=\"Dark2\")+\n",
    "\n",
    "theme_stata() +\n",
    "\n",
    "# lable names\n",
    "labs( title='Q-Q Plot')+\n",
    "\n",
    "# title-label\n",
    "theme(plot.title = element_text(hjust=.5, size=23, face='bold')) +\n",
    "\n",
    "# y-label\n",
    "theme(axis.title.y = element_text(hjust=.5, size=18, face='bold'))  +\n",
    "# x-label\n",
    "theme(axis.title.x = element_text(hjust=.5, size=18, face='bold')) \n"
   ]
  },
  {
   "cell_type": "code",
   "execution_count": null,
   "id": "occasional-natural",
   "metadata": {},
   "outputs": [],
   "source": []
  },
  {
   "cell_type": "code",
   "execution_count": 160,
   "id": "indonesian-cambodia",
   "metadata": {},
   "outputs": [
    {
     "data": {
      "image/png": "[encoded data removed]",
      "text/plain": [
       "plot without title"
      ]
     },
     "metadata": {
      "image/png": {
       "height": 420,
       "width": 420
      }
     },
     "output_type": "display_data"
    }
   ],
   "source": [
    "### normalirty2 ###\n",
    "\n",
    "#upload data\n",
    "ggplot(data=df, aes(x=residuals))+\n",
    "\n",
    "#histogram\n",
    "geom_histogram(bins = 15, fill = 'purple', color = 'black')+\n",
    "\n",
    "# lable names\n",
    "labs(x='residuals', y='Frequency',title='histogram')+\n",
    "\n",
    "theme_stata() +\n",
    "\n",
    "# title-label\n",
    "theme(plot.title = element_text(hjust=.5, size=23, face='bold')) +\n",
    "\n",
    "# y-label\n",
    "theme(axis.title.y = element_text(hjust=.5, size=18, face='bold')) +\n",
    "\n",
    "# x-label\n",
    "theme(axis.title.x = element_text(hjust=.5, size=18, face='bold')) \n"
   ]
  },
  {
   "cell_type": "code",
   "execution_count": null,
   "id": "historical-cologne",
   "metadata": {},
   "outputs": [],
   "source": []
  },
  {
   "cell_type": "code",
   "execution_count": 38,
   "id": "given-highway",
   "metadata": {},
   "outputs": [
    {
     "data": {
      "text/plain": [
       "\n",
       "\tShapiro-Wilk normality test\n",
       "\n",
       "data:  residuals\n",
       "W = 0.9636, p-value = 0.08402\n"
      ]
     },
     "metadata": {},
     "output_type": "display_data"
    }
   ],
   "source": [
    "### normalirty3 ###\n",
    "\n",
    "shapiro.test(residuals)"
   ]
  },
  {
   "cell_type": "code",
   "execution_count": null,
   "id": "returning-storage",
   "metadata": {},
   "outputs": [],
   "source": []
  },
  {
   "cell_type": "code",
   "execution_count": 39,
   "id": "understanding-psychology",
   "metadata": {},
   "outputs": [
    {
     "data": {
      "text/plain": [
       "\n",
       "\tDurbin-Watson test\n",
       "\n",
       "data:  model\n",
       "DW = 1.6177, p-value = 0.1304\n",
       "alternative hypothesis: true autocorrelation is not 0\n"
      ]
     },
     "metadata": {},
     "output_type": "display_data"
    }
   ],
   "source": [
    "#### independence assumption #####\n",
    "dwtest(model, alternative=c(\"two.sided\"))"
   ]
  },
  {
   "cell_type": "code",
   "execution_count": null,
   "id": "covered-generator",
   "metadata": {},
   "outputs": [],
   "source": []
  },
  {
   "cell_type": "code",
   "execution_count": 156,
   "id": "powerful-edgar",
   "metadata": {},
   "outputs": [
    {
     "data": {
      "text/html": [
       "<table class=\"dataframe\">\n",
       "<caption>A data.frame: 3 × 11</caption>\n",
       "<thead>\n",
       "\t<tr><th></th><th scope=col>observations</th><th scope=col>PE.x2.</th><th scope=col>CAS.x6.</th><th scope=col>LRSIZ.x11.</th><th scope=col>PT.y.</th><th scope=col>PT.yhat.</th><th scope=col>residuals</th><th scope=col>stand_residuals</th><th scope=col>jackknife_residuals</th><th scope=col>cooks_distance</th><th scope=col>leverage</th></tr>\n",
       "\t<tr><th></th><th scope=col>&lt;dbl&gt;</th><th scope=col>&lt;dbl&gt;</th><th scope=col>&lt;dbl&gt;</th><th scope=col>&lt;dbl&gt;</th><th scope=col>&lt;dbl&gt;</th><th scope=col>&lt;dbl&gt;</th><th scope=col>&lt;dbl&gt;</th><th scope=col>&lt;dbl&gt;</th><th scope=col>&lt;dbl&gt;</th><th scope=col>&lt;dbl&gt;</th><th scope=col>&lt;dbl&gt;</th></tr>\n",
       "</thead>\n",
       "<tbody>\n",
       "\t<tr><th scope=row>1</th><td>1</td><td>0.17</td><td>28.0</td><td>0.2769</td><td>0.30</td><td>0.24214416</td><td>0.05785584</td><td>2.317952</td><td>2.422027</td><td>0.80144658</td><td>0.37369200</td></tr>\n",
       "\t<tr><th scope=row>2</th><td>2</td><td>0.06</td><td> 0.4</td><td>0.2295</td><td>0.09</td><td>0.05377549</td><td>0.03622451</td><td>1.172688</td><td>1.176942</td><td>0.01459664</td><td>0.04072766</td></tr>\n",
       "\t<tr><th scope=row>3</th><td>3</td><td>0.07</td><td> 0.5</td><td>0.1787</td><td>0.11</td><td>0.07437192</td><td>0.03562808</td><td>1.153159</td><td>1.156833</td><td>0.01398174</td><td>0.04035997</td></tr>\n",
       "</tbody>\n",
       "</table>\n"
      ],
      "text/latex": [
       "A data.frame: 3 × 11\n",
       "\\begin{tabular}{r|lllllllllll}\n",
       "  & observations & PE.x2. & CAS.x6. & LRSIZ.x11. & PT.y. & PT.yhat. & residuals & stand\\_residuals & jackknife\\_residuals & cooks\\_distance & leverage\\\\\n",
       "  & <dbl> & <dbl> & <dbl> & <dbl> & <dbl> & <dbl> & <dbl> & <dbl> & <dbl> & <dbl> & <dbl>\\\\\n",
       "\\hline\n",
       "\t1 & 1 & 0.17 & 28.0 & 0.2769 & 0.30 & 0.24214416 & 0.05785584 & 2.317952 & 2.422027 & 0.80144658 & 0.37369200\\\\\n",
       "\t2 & 2 & 0.06 &  0.4 & 0.2295 & 0.09 & 0.05377549 & 0.03622451 & 1.172688 & 1.176942 & 0.01459664 & 0.04072766\\\\\n",
       "\t3 & 3 & 0.07 &  0.5 & 0.1787 & 0.11 & 0.07437192 & 0.03562808 & 1.153159 & 1.156833 & 0.01398174 & 0.04035997\\\\\n",
       "\\end{tabular}\n"
      ],
      "text/markdown": [
       "\n",
       "A data.frame: 3 × 11\n",
       "\n",
       "| <!--/--> | observations &lt;dbl&gt; | PE.x2. &lt;dbl&gt; | CAS.x6. &lt;dbl&gt; | LRSIZ.x11. &lt;dbl&gt; | PT.y. &lt;dbl&gt; | PT.yhat. &lt;dbl&gt; | residuals &lt;dbl&gt; | stand_residuals &lt;dbl&gt; | jackknife_residuals &lt;dbl&gt; | cooks_distance &lt;dbl&gt; | leverage &lt;dbl&gt; |\n",
       "|---|---|---|---|---|---|---|---|---|---|---|---|\n",
       "| 1 | 1 | 0.17 | 28.0 | 0.2769 | 0.30 | 0.24214416 | 0.05785584 | 2.317952 | 2.422027 | 0.80144658 | 0.37369200 |\n",
       "| 2 | 2 | 0.06 |  0.4 | 0.2295 | 0.09 | 0.05377549 | 0.03622451 | 1.172688 | 1.176942 | 0.01459664 | 0.04072766 |\n",
       "| 3 | 3 | 0.07 |  0.5 | 0.1787 | 0.11 | 0.07437192 | 0.03562808 | 1.153159 | 1.156833 | 0.01398174 | 0.04035997 |\n",
       "\n"
      ],
      "text/plain": [
       "  observations PE.x2. CAS.x6. LRSIZ.x11. PT.y. PT.yhat.   residuals \n",
       "1 1            0.17   28.0    0.2769     0.30  0.24214416 0.05785584\n",
       "2 2            0.06    0.4    0.2295     0.09  0.05377549 0.03622451\n",
       "3 3            0.07    0.5    0.1787     0.11  0.07437192 0.03562808\n",
       "  stand_residuals jackknife_residuals cooks_distance leverage  \n",
       "1 2.317952        2.422027            0.80144658     0.37369200\n",
       "2 1.172688        1.176942            0.01459664     0.04072766\n",
       "3 1.153159        1.156833            0.01398174     0.04035997"
      ]
     },
     "metadata": {},
     "output_type": "display_data"
    }
   ],
   "source": [
    "head(df,3)"
   ]
  },
  {
   "cell_type": "code",
   "execution_count": 29,
   "id": "introductory-lancaster",
   "metadata": {},
   "outputs": [
    {
     "data": {
      "image/png": "[encoded data removed]",
      "text/plain": [
       "plot without title"
      ]
     },
     "metadata": {
      "image/png": {
       "height": 420,
       "width": 420
      }
     },
     "output_type": "display_data"
    }
   ],
   "source": [
    "##### standarize residuals #####\n",
    "\n",
    "# need to be  > 3 std\n",
    "\n",
    "#upload data\n",
    "ggplot(data=df, aes(x=PT.yhat., y=stand_residuals)) + \n",
    "\n",
    "theme_stata() +\n",
    "\n",
    "#point settings\n",
    "geom_point(shape=1,size=4,colour=\"purple\") + # point settings\n",
    "\n",
    "# lable names\n",
    "labs(x='Fitted Values', y='Standardized Residuals', title='Standardized Residuals vs Fitted Values') + \n",
    "\n",
    "# title-label\n",
    "theme(plot.title = element_text(hjust=.5, size=23, face='bold')) +\n",
    "\n",
    "# x-label\n",
    "theme(axis.title.x = element_text(hjust=.5, size=18, face='bold')) +\n",
    "\n",
    "# y-label\n",
    "theme(axis.title.y = element_text(hjust=.5, size=18, face='bold')) +\n",
    "\n",
    "# add hor line\n",
    "geom_hline(yintercept=0, col = \"black\", size=1)+\n",
    "\n",
    "# add hor line\n",
    "geom_hline(yintercept=3, linetype='dashed',col = \"blue\", size=1)+\n",
    "\n",
    "# add hor line\n",
    "geom_hline(yintercept=-3,linetype='dashed' ,col = \"blue\", size=1)+\n",
    "\n",
    "# add label to potential outliers under conditions\n",
    "geom_label(data=df %>% filter(abs(stand_residuals)>3),aes(label=observations))\n",
    "\n",
    "\n",
    "#new_df = df[order(stand_residuals),]\n",
    "#tail(new_df,6)"
   ]
  },
  {
   "cell_type": "code",
   "execution_count": null,
   "id": "joint-samuel",
   "metadata": {},
   "outputs": [],
   "source": []
  },
  {
   "cell_type": "code",
   "execution_count": 155,
   "id": "massive-cyprus",
   "metadata": {},
   "outputs": [
    {
     "data": {
      "text/html": [
       "3.51919753815852"
      ],
      "text/latex": [
       "3.51919753815852"
      ],
      "text/markdown": [
       "3.51919753815852"
      ],
      "text/plain": [
       "[1] 3.519198"
      ]
     },
     "metadata": {},
     "output_type": "display_data"
    },
    {
     "data": {
      "image/png": "[encoded data removed]",
      "text/plain": [
       "plot without title"
      ]
     },
     "metadata": {
      "image/png": {
       "height": 420,
       "width": 420
      }
     },
     "output_type": "display_data"
    }
   ],
   "source": [
    "##### Jacknfive residual #####\n",
    "\n",
    "#Bonferroni critical value\n",
    "bonferroni=qt(.025/n,df=n-2,lower.tail = FALSE)\n",
    "\n",
    "\n",
    "#upload data\n",
    "ggplot(data=df, aes(x=PT.yhat., y=jackknife_residuals)) + \n",
    "\n",
    "theme_stata() +\n",
    "\n",
    "#point settings\n",
    "geom_point(shape=1,size=4,colour=\"purple\") + # point settings\n",
    "\n",
    "# lable names\n",
    "labs(x='Fitted Values', y='Jackknife Residuals', title='Jackknife Residuals vs Fitted Values') + \n",
    "\n",
    "# title-label\n",
    "theme(plot.title = element_text(hjust=.5, size=23, face='bold')) +\n",
    "\n",
    "# x-label\n",
    "theme(axis.title.x = element_text(hjust=.5, size=18, face='bold')) +\n",
    "\n",
    "# y-label\n",
    "theme(axis.title.y = element_text(hjust=.5, size=18, face='bold')) +\n",
    "\n",
    "# add hor line \n",
    "geom_hline(yintercept=0, col = \"black\", size=1)+\n",
    "\n",
    "# add hor line bonferroni\n",
    "geom_hline(yintercept=bonferroni, linetype='dashed',col = \"blue\", size=1)+\n",
    "\n",
    "# add hor line bonferroni\n",
    "geom_hline(yintercept=-bonferroni,linetype='dashed' ,col = \"blue\", size=1)+\n",
    "\n",
    "# add label to potential outliers under conditions\n",
    "geom_label( data=df %>% filter(abs(stand_residuals)>bonferroni),aes(label=observations))\n",
    "\n",
    "bonferroni"
   ]
  },
  {
   "cell_type": "code",
   "execution_count": null,
   "id": "according-pricing",
   "metadata": {},
   "outputs": [],
   "source": []
  },
  {
   "cell_type": "code",
   "execution_count": 46,
   "id": "dimensional-noise",
   "metadata": {},
   "outputs": [
    {
     "data": {
      "image/png": "[encoded data removed]",
      "text/plain": [
       "plot without title"
      ]
     },
     "metadata": {
      "image/png": {
       "height": 420,
       "width": 420
      }
     },
     "output_type": "display_data"
    }
   ],
   "source": [
    "### cook distance ###\n",
    "\n",
    "ggplot(data=df, aes(x=observations, y=cooks_distance)) + \n",
    "\n",
    "#point settings\n",
    "geom_point(shape=1,size=4,colour=\"purple\") + # point settings\n",
    "\n",
    "theme_stata() +\n",
    "\n",
    "# lable names\n",
    "labs(x='Obervations', y='Cook Distance', title='Cook Distance vs Observations') + \n",
    "\n",
    "# title-label\n",
    "theme(plot.title = element_text(hjust=.5, size=23, face='bold')) +\n",
    "\n",
    "# x-label\n",
    "theme(axis.title.x = element_text(hjust=.5, size=18, face='bold')) +\n",
    "\n",
    "# y-label\n",
    "theme(axis.title.y = element_text(hjust=.5, size=18, face='bold')) +\n",
    "\n",
    "# add hor line \n",
    "geom_hline(yintercept=0, col = \"black\", size=1)+\n",
    "\n",
    "# add hor cook distance thresh hold\n",
    "geom_hline(yintercept=1, linetype='dashed',col = \"blue\", size=1)+\n",
    "\n",
    "\n",
    "# add label to potential outliers under conditions\n",
    "geom_label( data=df %>% filter(cooks_distance>1),aes(label=observations))"
   ]
  },
  {
   "cell_type": "code",
   "execution_count": null,
   "id": "spiritual-seventh",
   "metadata": {},
   "outputs": [],
   "source": []
  },
  {
   "cell_type": "code",
   "execution_count": 145,
   "id": "czech-xerox",
   "metadata": {},
   "outputs": [
    {
     "data": {
      "image/png": "[encoded data removed]",
      "text/plain": [
       "plot without title"
      ]
     },
     "metadata": {
      "image/png": {
       "height": 420,
       "width": 420
      }
     },
     "output_type": "display_data"
    }
   ],
   "source": [
    "### leverage points graph ###\n",
    "\n",
    "# Outlier = Leverage > 2*p/n, p = rank of X\n",
    "\n",
    "X = model.matrix(model)\n",
    "p = as.integer(rankMatrix(X))\n",
    "c.thes = 2*p/n\n",
    "\n",
    "#upload data\n",
    "ggplot(data=df, aes(x=observations, y=leverage)) + \n",
    "\n",
    "#point settings\n",
    "geom_point(shape=1,size=4,colour=\"purple\") + # point settings\n",
    "\n",
    "theme_stata() +\n",
    "\n",
    "# lable names\n",
    "labs(x='Observations', y='Leverage', title='Leverage vs Observations') + \n",
    "\n",
    "# title-label\n",
    "theme(plot.title = element_text(hjust=.5, size=23, face='bold')) +\n",
    "\n",
    "# x-label\n",
    "theme(axis.title.x = element_text(hjust=.5, size=18, face='bold')) +\n",
    "\n",
    "# y-label\n",
    "theme(axis.title.y = element_text(hjust=.5, size=18, face='bold')) +\n",
    "\n",
    "# add hor line \n",
    "geom_hline(yintercept=0, col = \"black\", size=1)+\n",
    "\n",
    "# add hor line for thres hold\n",
    "geom_hline(yintercept=c.thes, linetype='dashed',col = \"blue\", size=1)+\n",
    "\n",
    "# add label to potential outliers under conditions\n",
    "geom_label( data=df %>% filter(leverage>c.thes),aes(label=observations))"
   ]
  },
  {
   "cell_type": "code",
   "execution_count": 146,
   "id": "suspended-jungle",
   "metadata": {},
   "outputs": [
    {
     "data": {
      "text/html": [
       "0.140350877192982"
      ],
      "text/latex": [
       "0.140350877192982"
      ],
      "text/markdown": [
       "0.140350877192982"
      ],
      "text/plain": [
       "[1] 0.1403509"
      ]
     },
     "metadata": {},
     "output_type": "display_data"
    }
   ],
   "source": [
    "c.thes"
   ]
  },
  {
   "cell_type": "code",
   "execution_count": null,
   "id": "hybrid-leave",
   "metadata": {},
   "outputs": [],
   "source": []
  },
  {
   "cell_type": "code",
   "execution_count": 28,
   "id": "funny-avenue",
   "metadata": {},
   "outputs": [
    {
     "data": {
      "text/plain": [
       "\n",
       "Call:\n",
       "lm(formula = PT ~ PE + CAS + LRSIZ, data = firm_profit_df)\n",
       "\n",
       "Residuals:\n",
       "      Min        1Q    Median        3Q       Max \n",
       "-0.094078 -0.017058 -0.000543  0.019753  0.101697 \n",
       "\n",
       "Coefficients:\n",
       "             Estimate Std. Error t value Pr(>|t|)    \n",
       "(Intercept)  0.020178   0.018659   1.081   0.2844    \n",
       "PE           1.184759   0.076206  15.547   <2e-16 ***\n",
       "CAS          0.002391   0.000902   2.651   0.0106 *  \n",
       "LRSIZ       -0.167515   0.075489  -2.219   0.0308 *  \n",
       "---\n",
       "Signif. codes:  0 '***' 0.001 '**' 0.01 '*' 0.05 '.' 0.1 ' ' 1\n",
       "\n",
       "Residual standard error: 0.03154 on 53 degrees of freedom\n",
       "Multiple R-squared:  0.8679,\tAdjusted R-squared:  0.8604 \n",
       "F-statistic: 116.1 on 3 and 53 DF,  p-value: < 2.2e-16\n"
      ]
     },
     "metadata": {},
     "output_type": "display_data"
    }
   ],
   "source": [
    "summary(model)"
   ]
  },
  {
   "cell_type": "code",
   "execution_count": 7,
   "id": "formed-literacy",
   "metadata": {},
   "outputs": [
    {
     "ename": "ERROR",
     "evalue": "Error in eval(expr, envir, enclos): object 'firm_profit_df' not found\n",
     "output_type": "error",
     "traceback": [
      "Error in eval(expr, envir, enclos): object 'firm_profit_df' not found\nTraceback:\n"
     ]
    }
   ],
   "source": []
  },
  {
   "cell_type": "code",
   "execution_count": null,
   "id": "choice-emerald",
   "metadata": {},
   "outputs": [],
   "source": []
  },
  {
   "cell_type": "code",
   "execution_count": 84,
   "id": "catholic-morning",
   "metadata": {},
   "outputs": [
    {
     "data": {
      "text/plain": [
       "\n",
       "Call:\n",
       "lm(formula = PT ~ PE + CAS + LRSIZ, data = firm_profit_df)\n",
       "\n",
       "Residuals:\n",
       "      Min        1Q    Median        3Q       Max \n",
       "-0.094078 -0.017058 -0.000543  0.019753  0.101697 \n",
       "\n",
       "Coefficients:\n",
       "             Estimate Std. Error t value Pr(>|t|)    \n",
       "(Intercept)  0.020178   0.018659   1.081   0.2844    \n",
       "PE           1.184759   0.076206  15.547   <2e-16 ***\n",
       "CAS          0.002391   0.000902   2.651   0.0106 *  \n",
       "LRSIZ       -0.167515   0.075489  -2.219   0.0308 *  \n",
       "---\n",
       "Signif. codes:  0 '***' 0.001 '**' 0.01 '*' 0.05 '.' 0.1 ' ' 1\n",
       "\n",
       "Residual standard error: 0.03154 on 53 degrees of freedom\n",
       "Multiple R-squared:  0.8679,\tAdjusted R-squared:  0.8604 \n",
       "F-statistic: 116.1 on 3 and 53 DF,  p-value: < 2.2e-16\n"
      ]
     },
     "metadata": {},
     "output_type": "display_data"
    }
   ],
   "source": [
    "# before\n",
    "summary(model)"
   ]
  },
  {
   "cell_type": "code",
   "execution_count": null,
   "id": "ancient-baseball",
   "metadata": {},
   "outputs": [],
   "source": []
  },
  {
   "cell_type": "code",
   "execution_count": 24,
   "id": "graduate-northeast",
   "metadata": {},
   "outputs": [
    {
     "data": {
      "text/html": [
       "<table class=\"dataframe\">\n",
       "<caption>A matrix: 1 × 3 of type dbl</caption>\n",
       "<thead>\n",
       "\t<tr><th></th><th scope=col>fit</th><th scope=col>lwr</th><th scope=col>upr</th></tr>\n",
       "</thead>\n",
       "<tbody>\n",
       "\t<tr><th scope=row>1</th><td>0.2331902</td><td>0.2167559</td><td>0.2496245</td></tr>\n",
       "</tbody>\n",
       "</table>\n"
      ],
      "text/latex": [
       "A matrix: 1 × 3 of type dbl\n",
       "\\begin{tabular}{r|lll}\n",
       "  & fit & lwr & upr\\\\\n",
       "\\hline\n",
       "\t1 & 0.2331902 & 0.2167559 & 0.2496245\\\\\n",
       "\\end{tabular}\n"
      ],
      "text/markdown": [
       "\n",
       "A matrix: 1 × 3 of type dbl\n",
       "\n",
       "| <!--/--> | fit | lwr | upr |\n",
       "|---|---|---|---|\n",
       "| 1 | 0.2331902 | 0.2167559 | 0.2496245 |\n",
       "\n"
      ],
      "text/plain": [
       "  fit       lwr       upr      \n",
       "1 0.2331902 0.2167559 0.2496245"
      ]
     },
     "metadata": {},
     "output_type": "display_data"
    }
   ],
   "source": [
    "### confindence int for population ###1\n",
    "\n",
    "# Confidence interval\n",
    "newdata=data.frame(PE=.20,CAS=4,LRSIZ=.20)\n",
    "\n",
    "predict(model,newdata,inteval='confidence',interval=\"confidence\",level=.95) \n",
    "\n",
    "#we are 95% confindent that the expected _____ is between lb and hb when x2 is __, x6 is ___, and x11 is ____."
   ]
  },
  {
   "cell_type": "code",
   "execution_count": 40,
   "id": "attached-woman",
   "metadata": {},
   "outputs": [
    {
     "data": {
      "text/html": [
       "<table class=\"dataframe\">\n",
       "<caption>A matrix: 1 × 3 of type dbl</caption>\n",
       "<thead>\n",
       "\t<tr><th></th><th scope=col>fit</th><th scope=col>lwr</th><th scope=col>upr</th></tr>\n",
       "</thead>\n",
       "<tbody>\n",
       "\t<tr><th scope=row>1</th><td>0.6005235</td><td>0.5292747</td><td>0.6717723</td></tr>\n",
       "</tbody>\n",
       "</table>\n"
      ],
      "text/latex": [
       "A matrix: 1 × 3 of type dbl\n",
       "\\begin{tabular}{r|lll}\n",
       "  & fit & lwr & upr\\\\\n",
       "\\hline\n",
       "\t1 & 0.6005235 & 0.5292747 & 0.6717723\\\\\n",
       "\\end{tabular}\n"
      ],
      "text/markdown": [
       "\n",
       "A matrix: 1 × 3 of type dbl\n",
       "\n",
       "| <!--/--> | fit | lwr | upr |\n",
       "|---|---|---|---|\n",
       "| 1 | 0.6005235 | 0.5292747 | 0.6717723 |\n",
       "\n"
      ],
      "text/plain": [
       "  fit       lwr       upr      \n",
       "1 0.6005235 0.5292747 0.6717723"
      ]
     },
     "metadata": {},
     "output_type": "display_data"
    }
   ],
   "source": [
    "### confindence int for population ###2\n",
    "\n",
    "# Confidence interval\n",
    "newdata=data.frame(PE=.50,CAS=30,LRSIZ=.50)\n",
    "\n",
    "predict(model,newdata,inteval='confidence',interval=\"confidence\",level=.95) \n",
    "\n",
    "#we are 95% confindent that the expected _____ is between lb and hb when x2 is __, x6 is ___, and x11 is ____."
   ]
  },
  {
   "cell_type": "code",
   "execution_count": 41,
   "id": "fuzzy-implement",
   "metadata": {},
   "outputs": [
    {
     "data": {
      "text/html": [
       "<table class=\"dataframe\">\n",
       "<caption>A matrix: 1 × 3 of type dbl</caption>\n",
       "<thead>\n",
       "\t<tr><th></th><th scope=col>fit</th><th scope=col>lwr</th><th scope=col>upr</th></tr>\n",
       "</thead>\n",
       "<tbody>\n",
       "\t<tr><th scope=row>1</th><td>0.8811811</td><td>0.782076</td><td>0.9802862</td></tr>\n",
       "</tbody>\n",
       "</table>\n"
      ],
      "text/latex": [
       "A matrix: 1 × 3 of type dbl\n",
       "\\begin{tabular}{r|lll}\n",
       "  & fit & lwr & upr\\\\\n",
       "\\hline\n",
       "\t1 & 0.8811811 & 0.782076 & 0.9802862\\\\\n",
       "\\end{tabular}\n"
      ],
      "text/markdown": [
       "\n",
       "A matrix: 1 × 3 of type dbl\n",
       "\n",
       "| <!--/--> | fit | lwr | upr |\n",
       "|---|---|---|---|\n",
       "| 1 | 0.8811811 | 0.782076 | 0.9802862 |\n",
       "\n"
      ],
      "text/plain": [
       "  fit       lwr      upr      \n",
       "1 0.8811811 0.782076 0.9802862"
      ]
     },
     "metadata": {},
     "output_type": "display_data"
    }
   ],
   "source": [
    "### confindence int for population ###3\n",
    "\n",
    "# Confidence interval\n",
    "newdata=data.frame(PE=.75,CAS=20,LRSIZ=.45)\n",
    "\n",
    "predict(model,newdata,inteval='confidence',interval=\"confidence\",level=.95) \n",
    "\n",
    "#we are 95% confindent that the expected _____ is between lb and hb when x2 is __, x6 is ___, and x11 is ____."
   ]
  },
  {
   "cell_type": "code",
   "execution_count": null,
   "id": "perceived-martin",
   "metadata": {},
   "outputs": [],
   "source": []
  },
  {
   "cell_type": "code",
   "execution_count": 27,
   "id": "radio-chain",
   "metadata": {},
   "outputs": [
    {
     "data": {
      "text/html": [
       "<table class=\"dataframe\">\n",
       "<caption>A matrix: 1 × 3 of type dbl</caption>\n",
       "<thead>\n",
       "\t<tr><th></th><th scope=col>fit</th><th scope=col>lwr</th><th scope=col>upr</th></tr>\n",
       "</thead>\n",
       "<tbody>\n",
       "\t<tr><th scope=row>1</th><td>0.2331902</td><td>0.1678309</td><td>0.2985495</td></tr>\n",
       "</tbody>\n",
       "</table>\n"
      ],
      "text/latex": [
       "A matrix: 1 × 3 of type dbl\n",
       "\\begin{tabular}{r|lll}\n",
       "  & fit & lwr & upr\\\\\n",
       "\\hline\n",
       "\t1 & 0.2331902 & 0.1678309 & 0.2985495\\\\\n",
       "\\end{tabular}\n"
      ],
      "text/markdown": [
       "\n",
       "A matrix: 1 × 3 of type dbl\n",
       "\n",
       "| <!--/--> | fit | lwr | upr |\n",
       "|---|---|---|---|\n",
       "| 1 | 0.2331902 | 0.1678309 | 0.2985495 |\n",
       "\n"
      ],
      "text/plain": [
       "  fit       lwr       upr      \n",
       "1 0.2331902 0.1678309 0.2985495"
      ]
     },
     "metadata": {},
     "output_type": "display_data"
    }
   ],
   "source": [
    "### prediction int for an indivual y-value ###1\n",
    "\n",
    "# prediction interval\n",
    "newdata=data.frame(PE=.2,CAS=4,LRSIZ=.20)\n",
    "\n",
    "predict(model,newdata,inteval='prediction',interval=\"prediction\",level=.95) \n",
    "\n",
    "#we are 95% confindent that the y _____ is between lb and ub when x2 is __, x6 is ___, and x11 is ____."
   ]
  },
  {
   "cell_type": "code",
   "execution_count": 42,
   "id": "applied-change",
   "metadata": {},
   "outputs": [
    {
     "data": {
      "text/html": [
       "<table class=\"dataframe\">\n",
       "<caption>A matrix: 1 × 3 of type dbl</caption>\n",
       "<thead>\n",
       "\t<tr><th></th><th scope=col>fit</th><th scope=col>lwr</th><th scope=col>upr</th></tr>\n",
       "</thead>\n",
       "<tbody>\n",
       "\t<tr><th scope=row>1</th><td>0.6005235</td><td>0.5052442</td><td>0.6958027</td></tr>\n",
       "</tbody>\n",
       "</table>\n"
      ],
      "text/latex": [
       "A matrix: 1 × 3 of type dbl\n",
       "\\begin{tabular}{r|lll}\n",
       "  & fit & lwr & upr\\\\\n",
       "\\hline\n",
       "\t1 & 0.6005235 & 0.5052442 & 0.6958027\\\\\n",
       "\\end{tabular}\n"
      ],
      "text/markdown": [
       "\n",
       "A matrix: 1 × 3 of type dbl\n",
       "\n",
       "| <!--/--> | fit | lwr | upr |\n",
       "|---|---|---|---|\n",
       "| 1 | 0.6005235 | 0.5052442 | 0.6958027 |\n",
       "\n"
      ],
      "text/plain": [
       "  fit       lwr       upr      \n",
       "1 0.6005235 0.5052442 0.6958027"
      ]
     },
     "metadata": {},
     "output_type": "display_data"
    }
   ],
   "source": [
    "### prediction int for an indivual y-value ###2\n",
    "\n",
    "# prediction interval\n",
    "newdata=data.frame(PE=.5,CAS=30,LRSIZ=.50)\n",
    "\n",
    "predict(model,newdata,inteval='prediction',interval=\"prediction\",level=.95) \n",
    "\n",
    "#we are 95% confindent that the y _____ is between lb and ub when x2 is __, x6 is ___, and x11 is ____."
   ]
  },
  {
   "cell_type": "code",
   "execution_count": 43,
   "id": "dangerous-merchant",
   "metadata": {},
   "outputs": [
    {
     "data": {
      "text/html": [
       "<table class=\"dataframe\">\n",
       "<caption>A matrix: 1 × 3 of type dbl</caption>\n",
       "<thead>\n",
       "\t<tr><th></th><th scope=col>fit</th><th scope=col>lwr</th><th scope=col>upr</th></tr>\n",
       "</thead>\n",
       "<tbody>\n",
       "\t<tr><th scope=row>1</th><td>0.8811811</td><td>0.7636075</td><td>0.9987548</td></tr>\n",
       "</tbody>\n",
       "</table>\n"
      ],
      "text/latex": [
       "A matrix: 1 × 3 of type dbl\n",
       "\\begin{tabular}{r|lll}\n",
       "  & fit & lwr & upr\\\\\n",
       "\\hline\n",
       "\t1 & 0.8811811 & 0.7636075 & 0.9987548\\\\\n",
       "\\end{tabular}\n"
      ],
      "text/markdown": [
       "\n",
       "A matrix: 1 × 3 of type dbl\n",
       "\n",
       "| <!--/--> | fit | lwr | upr |\n",
       "|---|---|---|---|\n",
       "| 1 | 0.8811811 | 0.7636075 | 0.9987548 |\n",
       "\n"
      ],
      "text/plain": [
       "  fit       lwr       upr      \n",
       "1 0.8811811 0.7636075 0.9987548"
      ]
     },
     "metadata": {},
     "output_type": "display_data"
    }
   ],
   "source": [
    "### prediction int for an indivual y-value ###3\n",
    "\n",
    "# prediction interval\n",
    "newdata=data.frame(PE=.75,CAS=20,LRSIZ=.45)\n",
    "\n",
    "predict(model,newdata,inteval='prediction',interval=\"prediction\",level=.95) \n",
    "\n",
    "#we are 95% confindent that the y _____ is between lb and ub when x2 is __, x6 is ___, and x11 is ____."
   ]
  },
  {
   "cell_type": "code",
   "execution_count": null,
   "id": "other-indianapolis",
   "metadata": {},
   "outputs": [],
   "source": []
  }
 ],
 "metadata": {
  "kernelspec": {
   "display_name": "R",
   "language": "R",
   "name": "ir"
  },
  "language_info": {
   "codemirror_mode": "r",
   "file_extension": ".r",
   "mimetype": "text/x-r-source",
   "name": "R",
   "pygments_lexer": "r",
   "version": "3.6.1"
  }
 },
 "nbformat": 4,
 "nbformat_minor": 5
}
